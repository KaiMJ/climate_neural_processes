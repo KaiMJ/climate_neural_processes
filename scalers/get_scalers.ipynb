{
 "cells": [
  {
   "cell_type": "code",
   "execution_count": 6,
   "metadata": {},
   "outputs": [],
   "source": [
    "import numpy as np\n",
    "import glob, tqdm\n",
    "import sys, dill\n",
    "import datetime"
   ]
  },
  {
   "cell_type": "code",
   "execution_count": 3,
   "metadata": {},
   "outputs": [
    {
     "data": {
      "text/plain": [
       "array([0., 0., 0., 0.])"
      ]
     },
     "execution_count": 3,
     "metadata": {},
     "output_type": "execute_result"
    }
   ],
   "source": [
    "np.zeros((4, 5)).max(-1)"
   ]
  },
  {
   "cell_type": "code",
   "execution_count": 5,
   "metadata": {},
   "outputs": [
    {
     "name": "stderr",
     "output_type": "stream",
     "text": [
      "100%|██████████| 365/365 [00:47<00:00,  7.72it/s]\n",
      "100%|██████████| 365/365 [00:47<00:00,  7.71it/s]\n"
     ]
    }
   ],
   "source": [
    "def sort_fn(filename):\n",
    "    date_string = filename[-14:-4]\n",
    "    datetime_object = datetime.datetime.strptime(date_string, \"%Y-%m-%d\")\n",
    "    return datetime_object\n",
    "def save_object(obj, filename):\n",
    "    dill.dump(obj, file=open(filename, \"wb\"))\n",
    "\n",
    "data_dir = \"../data\"\n",
    "splits = [\"CAM5\", \"SPCAM5\"]\n",
    "# splits = [\"CAM5\"]\n",
    "x_max = 0\n",
    "y_max = 0\n",
    "x_min = 0\n",
    "y_min = 0\n",
    "\n",
    "for split in splits:\n",
    "    x_paths = sorted(glob.glob(f\"{data_dir}/{split}/inputs*\"), key=sort_fn)[:365]\n",
    "    y_paths = sorted(glob.glob(f\"{data_dir}/{split}/outputs*\"), key=sort_fn)[:365]\n",
    "\n",
    "    for i, (x_f, y_f) in tqdm.tqdm(enumerate(zip(x_paths, y_paths)), total=len(y_paths)):\n",
    "        x = np.load(x_f, mmap_mode='r')\n",
    "        y = np.load(y_f, mmap_mode='r')\n",
    "        x_max = np.maximum(x_max, np.max(x, 0))\n",
    "        y_max = np.maximum(y_max, np.max(y, 0))\n",
    "        x_min = np.minimum(x_min, np.min(x, 0))\n",
    "        y_min = np.minimum(y_min, np.min(y, 0))\n",
    "\n",
    "    np.save(f\"../scalers/{split}_x_max.npy\", x_max)\n",
    "    np.save(f\"../scalers/{split}_y_max.npy\", y_max)\n",
    "    np.save(f\"../scalers/{split}_x_min.npy\", x_min)\n",
    "    np.save(f\"../scalers/{split}_y_min.npy\", y_min)\n"
   ]
  },
  {
   "cell_type": "code",
   "execution_count": 7,
   "metadata": {},
   "outputs": [],
   "source": [
    "l1_x_max = np.load(\"../scalers/CAM5_x_max.npy\")\n",
    "l1_x_min = np.load(\"../scalers/CAM5_x_min.npy\")\n",
    "l1_y_max = np.load(\"../scalers/CAM5_y_max.npy\")\n",
    "l1_y_min = np.load(\"../scalers/CAM5_y_min.npy\")\n",
    "l2_x_max = np.load(\"../scalers/SPCAM5_x_max.npy\")\n",
    "l2_x_min = np.load(\"../scalers/SPCAM5_x_min.npy\")\n",
    "l2_y_max = np.load(\"../scalers/SPCAM5_y_max.npy\")\n",
    "l2_y_min = np.load(\"../scalers/SPCAM5_y_min.npy\")"
   ]
  },
  {
   "cell_type": "code",
   "execution_count": 20,
   "metadata": {},
   "outputs": [],
   "source": [
    "import sys\n",
    "sys.path.append('../src/SFNP/')\n",
    "from lib.utils import MinMaxScaler, StandardScaler"
   ]
  },
  {
   "cell_type": "code",
   "execution_count": 21,
   "metadata": {},
   "outputs": [],
   "source": [
    "l1_x_scaler_minmax = dill.load(open('../scalers/x_CAM5_minmax_scaler.dill', 'rb'))"
   ]
  },
  {
   "cell_type": "code",
   "execution_count": 24,
   "metadata": {},
   "outputs": [
    {
     "data": {
      "text/plain": [
       "array([ True,  True,  True,  True,  True,  True,  True,  True,  True,\n",
       "        True,  True,  True,  True,  True,  True,  True,  True,  True,\n",
       "        True,  True,  True,  True,  True,  True,  True,  True,  True,\n",
       "        True,  True,  True,  True,  True,  True,  True,  True,  True,\n",
       "        True,  True,  True,  True,  True,  True,  True,  True,  True,\n",
       "        True,  True,  True,  True,  True,  True,  True,  True,  True,\n",
       "        True,  True,  True,  True,  True,  True,  True,  True,  True,\n",
       "        True,  True,  True,  True,  True,  True,  True,  True,  True,\n",
       "        True,  True,  True,  True,  True,  True,  True,  True,  True,\n",
       "        True,  True,  True,  True,  True,  True,  True,  True,  True,\n",
       "        True,  True,  True,  True,  True,  True,  True,  True,  True,\n",
       "        True,  True,  True,  True,  True,  True,  True,  True,  True])"
      ]
     },
     "execution_count": 24,
     "metadata": {},
     "output_type": "execute_result"
    }
   ],
   "source": [
    "l1_x_scaler_minmax.max == l1_x_max"
   ]
  },
  {
   "cell_type": "code",
   "execution_count": 14,
   "metadata": {},
   "outputs": [
    {
     "data": {
      "text/plain": [
       "array([2.77426758e+02, 2.69584564e+02, 2.64400452e+02, 2.60852417e+02,\n",
       "       2.54367340e+02, 2.50192810e+02, 2.46686691e+02, 2.45020264e+02,\n",
       "       2.42068619e+02, 2.39250793e+02, 2.39442535e+02, 2.40342361e+02,\n",
       "       2.42080078e+02, 2.45708694e+02, 2.45818939e+02, 2.54548615e+02,\n",
       "       2.63270081e+02, 2.71797302e+02, 2.76961792e+02, 2.83947479e+02,\n",
       "       2.92566071e+02, 3.02001953e+02, 3.10036774e+02, 3.15763550e+02,\n",
       "       3.19691193e+02, 3.21801392e+02, 1.88973854e-06, 1.87160617e-06,\n",
       "       1.88490878e-06, 1.92133439e-06, 1.92560560e-06, 2.12575014e-06,\n",
       "       3.33829917e-06, 1.38219097e-04, 7.71799008e-04, 1.10595103e-03,\n",
       "       1.47442066e-03, 1.71812484e-03, 2.26741494e-03, 2.36729882e-03,\n",
       "       2.72311387e-03, 3.53110977e-03, 4.64665657e-03, 6.79808948e-03,\n",
       "       9.25564580e-03, 1.22102397e-02, 1.36217745e-02, 1.62387900e-02,\n",
       "       1.91608332e-02, 2.21411064e-02, 2.34411731e-02, 2.71806400e-02,\n",
       "       0.00000000e+00, 0.00000000e+00, 1.27769805e-38, 2.64542116e-27,\n",
       "       2.73448673e-25, 1.92914956e-23, 1.29361423e-15, 8.60440330e-10,\n",
       "       2.92868485e-08, 3.75215414e-08, 4.24531947e-08, 5.38763700e-08,\n",
       "       1.51914406e-07, 2.13838284e-05, 7.23019548e-05, 7.66361627e-05,\n",
       "       8.93962206e-05, 7.84553180e-04, 1.00155536e-03, 1.32068794e-03,\n",
       "       1.40409463e-03, 1.46079785e-03, 1.38928567e-03, 1.35225977e-03,\n",
       "       1.30035274e-03, 1.45197939e-03, 2.80130282e-23, 2.01042727e-16,\n",
       "       3.54079179e-13, 5.59830231e-13, 1.23562879e-12, 1.36503022e-08,\n",
       "       9.48266643e-06, 1.30509085e-04, 2.00614420e-04, 2.07320860e-04,\n",
       "       2.13367734e-04, 2.20085538e-04, 2.49378907e-04, 2.75616389e-04,\n",
       "       3.32456519e-04, 3.67531640e-04, 4.51445783e-04, 3.08098941e-04,\n",
       "       4.28058935e-04, 2.71360244e-04, 2.59280438e-04, 2.51807272e-04,\n",
       "       2.13437903e-04, 3.09988711e-04, 5.90925396e-04, 7.24841026e-04,\n",
       "       1.05581070e+05, 1.41265417e+03, 1.11914673e+03, 1.18835242e+03],\n",
       "      dtype=float32)"
      ]
     },
     "execution_count": 14,
     "metadata": {},
     "output_type": "execute_result"
    }
   ],
   "source": []
  }
 ],
 "metadata": {
  "kernelspec": {
   "display_name": "Python 3",
   "language": "python",
   "name": "python3"
  },
  "language_info": {
   "codemirror_mode": {
    "name": "ipython",
    "version": 3
   },
   "file_extension": ".py",
   "mimetype": "text/x-python",
   "name": "python",
   "nbconvert_exporter": "python",
   "pygments_lexer": "ipython3",
   "version": "3.10.4"
  },
  "orig_nbformat": 4,
  "vscode": {
   "interpreter": {
    "hash": "47438cdc80b15fca6750fd08e9deabf68d103b631750db3d8273ec50b5c936cd"
   }
  }
 },
 "nbformat": 4,
 "nbformat_minor": 2
}
