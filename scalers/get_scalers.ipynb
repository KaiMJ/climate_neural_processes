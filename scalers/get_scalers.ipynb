{
 "cells": [
  {
   "cell_type": "code",
   "execution_count": 1,
   "metadata": {},
   "outputs": [
    {
     "name": "stderr",
     "output_type": "stream",
     "text": [
      "/data/kai/torch/lib/python3.10/site-packages/tqdm/auto.py:22: TqdmWarning: IProgress not found. Please update jupyter and ipywidgets. See https://ipywidgets.readthedocs.io/en/stable/user_install.html\n",
      "  from .autonotebook import tqdm as notebook_tqdm\n"
     ]
    }
   ],
   "source": [
    "import numpy as np\n",
    "import glob, tqdm\n",
    "import sys, dill\n",
    "sys.path.append('../src')\n",
    "from lib.utils import *"
   ]
  },
  {
   "cell_type": "code",
   "execution_count": 2,
   "metadata": {},
   "outputs": [
    {
     "name": "stderr",
     "output_type": "stream",
     "text": [
      "100%|██████████| 365/365 [01:24<00:00,  4.33it/s]\n",
      "100%|██████████| 365/365 [01:48<00:00,  3.35it/s]\n"
     ]
    }
   ],
   "source": [
    "def sort_fn(filename):\n",
    "    date_string = filename[-14:-4]\n",
    "    datetime_object = datetime.datetime.strptime(date_string, \"%Y-%m-%d\")\n",
    "    return datetime_object\n",
    "def save_object(obj, filename):\n",
    "    dill.dump(obj, file=open(filename, \"wb\"))\n",
    "\n",
    "data_dir = \"/data/allen/climate_data/\"\n",
    "splits = [\"CAM5\", \"SPCAM5\"]\n",
    "\n",
    "for split in splits:\n",
    "    x_paths = sorted(glob.glob(f\"{data_dir}/{split}/inputs*\"), key=sort_fn)[:365]\n",
    "    y_paths = sorted(glob.glob(f\"{data_dir}/{split}/outputs*\"), key=sort_fn)[:365]\n",
    "\n",
    "    x_scaler = MinMaxScaler()\n",
    "    y_scaler = MinMaxScaler()\n",
    "\n",
    "    for i, (x_f, y_f) in tqdm.tqdm(enumerate(zip(x_paths, y_paths)), total=len(y_paths)):\n",
    "        x = np.load(x_f, mmap_mode='r')\n",
    "        y = np.load(y_f, mmap_mode='r')\n",
    "        x_scaler.fit(x)\n",
    "        y_scaler.fit(y)\n",
    "\n",
    "    save_object(x_scaler, f\"x_{split}_minmax_scaler.dill\")\n",
    "    save_object(y_scaler, f\"y_{split}_minmax_scaler.dill\")"
   ]
  },
  {
   "cell_type": "code",
   "execution_count": 6,
   "metadata": {},
   "outputs": [],
   "source": [
    "x_scaler = dill.load(open(f\"x_SPCAM5_minmax_scaler.dill\", 'rb'))\n",
    "y_scaler = dill.load(open(f\"y_SPCAM5_minmax_scaler.dill\", 'rb'))"
   ]
  },
  {
   "cell_type": "code",
   "execution_count": 7,
   "metadata": {},
   "outputs": [
    {
     "data": {
      "text/plain": [
       "array([2.57015228e+02, 2.57642090e+02, 2.54332870e+02, 2.53782227e+02,\n",
       "       2.52368683e+02, 2.47518005e+02, 2.40695084e+02, 2.39414856e+02,\n",
       "       2.37699371e+02, 2.36804199e+02, 2.37789948e+02, 2.41294785e+02,\n",
       "       2.43667007e+02, 2.43297791e+02, 2.47623642e+02, 2.55565735e+02,\n",
       "       2.63735596e+02, 2.71335327e+02, 2.77857758e+02, 2.85017700e+02,\n",
       "       2.94361694e+02, 3.02865021e+02, 3.09409851e+02, 3.15537903e+02,\n",
       "       3.19438873e+02, 3.25349854e+02, 2.77338245e-06, 2.74451418e-06,\n",
       "       3.21395123e-06, 1.16921483e-05, 1.33854410e-04, 7.74772343e-05,\n",
       "       1.60562631e-05, 1.46545435e-05, 1.75437945e-05, 2.25672538e-05,\n",
       "       5.30398065e-05, 1.44150996e-04, 3.76174314e-04, 8.89459858e-04,\n",
       "       1.79885037e-03, 3.18541122e-03, 4.94139036e-03, 6.95395330e-03,\n",
       "       9.00923740e-03, 1.14075588e-02, 1.43698975e-02, 1.73563585e-02,\n",
       "       1.95446908e-02, 2.13226788e-02, 2.31636036e-02, 2.94124391e-02,\n",
       "       0.00000000e+00, 0.00000000e+00, 1.02201204e-36, 4.29128419e-35,\n",
       "       1.67914313e-31, 1.70047758e-28, 1.05890464e-23, 6.76961907e-21,\n",
       "       9.75268690e-19, 4.63743954e-17, 5.21718805e-15, 1.27249014e-13,\n",
       "       5.25541156e-12, 2.93618324e-10, 1.29393948e-05, 1.22439043e-04,\n",
       "       2.39320259e-04, 3.42369603e-04, 5.23223018e-04, 7.00475764e-04,\n",
       "       7.77905167e-04, 8.53257778e-04, 9.78888362e-04, 9.89328255e-04,\n",
       "       1.02493830e-03, 1.15851150e-03, 2.80701573e-11, 4.49708326e-11,\n",
       "       4.96363950e-10, 1.01422870e-08, 3.69871123e-05, 6.06710732e-04,\n",
       "       1.37210242e-03, 1.32095278e-03, 1.45670807e-03, 1.47103262e-03,\n",
       "       1.43064198e-03, 1.33652345e-03, 1.44002645e-03, 1.56789122e-03,\n",
       "       1.21436093e-03, 8.49484932e-04, 7.26004539e-04, 6.54128497e-04,\n",
       "       4.60798095e-04, 4.41015814e-04, 3.68817942e-04, 3.32367345e-04,\n",
       "       2.73359910e-04, 2.71053897e-04, 2.23064431e-04, 1.99320624e-04,\n",
       "       1.06433875e+05, 1.40777490e+03, 7.15665894e+02, 1.10573901e+03],\n",
       "      dtype=float32)"
      ]
     },
     "execution_count": 7,
     "metadata": {},
     "output_type": "execute_result"
    }
   ],
   "source": [
    "x_scaler.max"
   ]
  },
  {
   "cell_type": "code",
   "execution_count": 8,
   "metadata": {},
   "outputs": [],
   "source": [
    "x = np.load(x_paths[0])\n",
    "x = x_scaler.transform(x)"
   ]
  },
  {
   "cell_type": "code",
   "execution_count": 9,
   "metadata": {},
   "outputs": [
    {
     "data": {
      "text/plain": [
       "(0.0, 1.0)"
      ]
     },
     "execution_count": 9,
     "metadata": {},
     "output_type": "execute_result"
    }
   ],
   "source": [
    "x.min(), x.max()"
   ]
  },
  {
   "cell_type": "code",
   "execution_count": 10,
   "metadata": {},
   "outputs": [],
   "source": [
    "y = np.load(y_paths[2])\n",
    "y = y_scaler.transform(y)"
   ]
  },
  {
   "cell_type": "code",
   "execution_count": 20,
   "metadata": {},
   "outputs": [
    {
     "data": {
      "text/plain": [
       "(0.0, 1.0)"
      ]
     },
     "execution_count": 20,
     "metadata": {},
     "output_type": "execute_result"
    }
   ],
   "source": [
    "y.min(), y.max()"
   ]
  }
 ],
 "metadata": {
  "kernelspec": {
   "display_name": "Python 3",
   "language": "python",
   "name": "python3"
  },
  "language_info": {
   "codemirror_mode": {
    "name": "ipython",
    "version": 3
   },
   "file_extension": ".py",
   "mimetype": "text/x-python",
   "name": "python",
   "nbconvert_exporter": "python",
   "pygments_lexer": "ipython3",
   "version": "3.10.9"
  },
  "orig_nbformat": 4,
  "vscode": {
   "interpreter": {
    "hash": "47438cdc80b15fca6750fd08e9deabf68d103b631750db3d8273ec50b5c936cd"
   }
  }
 },
 "nbformat": 4,
 "nbformat_minor": 2
}
