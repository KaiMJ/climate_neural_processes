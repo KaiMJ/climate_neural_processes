{
 "cells": [
  {
   "cell_type": "code",
   "execution_count": 1,
   "metadata": {},
   "outputs": [],
   "source": [
    "import numpy as np\n",
    "import glob\n",
    "import dill\n",
    "from tqdm import tqdm\n",
    "from utils import MinMaxScaler, StandardScaler, make_dir, sort_fn, save_object\n",
    "import matplotlib.pyplot as plt\n",
    "from multiprocessing import Pool"
   ]
  },
  {
   "cell_type": "code",
   "execution_count": 2,
   "metadata": {},
   "outputs": [],
   "source": [
    "x_paths = sorted(glob.glob(\"../../SPCAM5/inputs_*\"), key=sort_fn)\n",
    "y_paths = sorted(glob.glob(\"../../SPCAM5/outputs_*\"), key=sort_fn)"
   ]
  },
  {
   "cell_type": "code",
   "execution_count": 3,
   "metadata": {},
   "outputs": [],
   "source": [
    "n = 183 # first dataset: 6 monnths\n",
    "train_x = x_paths[:int(n*0.8)]\n",
    "train_y = y_paths[:int(n*0.8)]\n",
    "val_x = x_paths[int(n*0.8): n]\n",
    "val_y = y_paths[int(n*0.8): n]\n",
    "test_x = x_paths[n:365]\n",
    "test_y = y_paths[n:365]"
   ]
  },
  {
   "cell_type": "code",
   "execution_count": 11,
   "metadata": {},
   "outputs": [],
   "source": [
    "n = 365 # second dataset: 1 year\n",
    "train_x = x_paths[183:int(n*0.8)]\n",
    "train_y = y_paths[183:int(n*0.8)]\n",
    "val_x = x_paths[int(n*0.8): n]\n",
    "val_y = y_paths[int(n*0.8): n]\n",
    "test_x = x_paths[n:]\n",
    "test_y = y_paths[n:]"
   ]
  },
  {
   "cell_type": "code",
   "execution_count": 12,
   "metadata": {},
   "outputs": [
    {
     "name": "stdout",
     "output_type": "stream",
     "text": [
      "../../SPCAM5/inputs_2004-01-06.npy\r"
     ]
    }
   ],
   "source": [
    "# x_scaler_minmax = MinMaxScaler()\n",
    "# y_scaler_minmax = MinMaxScaler()\n",
    "# x_scaler_standard = StandardScaler()\n",
    "# y_scaler_standard = StandardScaler()\n",
    "\n",
    "x_scaler_minmax = dill.load(open(\"dataset_1_x_scaler_minmax.pkl\", \"rb\"))\n",
    "y_scaler_minmax = dill.load(open(\"dataset_1_y_scaler_minmax.pkl\", \"rb\"))\n",
    "x_scaler_standard = dill.load(open(\"dataset_1_x_scaler_standard.pkl\", \"rb\"))\n",
    "y_scaler_standard = dill.load(open(\"dataset_1_y_scaler_standard.pkl\", \"rb\"))\n",
    "\n",
    "def fit_scalers(paths):\n",
    "    x_path, y_path = paths\n",
    "    x = np.load(x_path)\n",
    "    y = np.load(y_path)[:, :26]\n",
    "\n",
    "    x_scaler_minmax.fit(x)\n",
    "    y_scaler_minmax.fit(y)\n",
    "    x_scaler_standard.fit(x)\n",
    "    y_scaler_standard.fit(y)\n",
    "    print(x_path, end='\\r')\n",
    "\n",
    "with Pool(processes=4) as pool:  # Change this to match your CPU cores\n",
    "    pool.map(fit_scalers, zip(train_x, train_y))\n",
    "\n",
    "\n",
    "save_object(x_scaler_minmax, f\"dataset_2_x_scaler_minmax.pkl\")\n",
    "save_object(y_scaler_minmax, f\"dataset_2_y_scaler_minmax.pkl\")\n",
    "save_object(x_scaler_standard, f\"dataset_2_x_scaler_standard.pkl\")\n",
    "save_object(y_scaler_standard, f\"dataset_2_y_scaler_standard.pkl\")"
   ]
  },
  {
   "cell_type": "code",
   "execution_count": null,
   "metadata": {},
   "outputs": [],
   "source": []
  },
  {
   "cell_type": "code",
   "execution_count": 41,
   "metadata": {},
   "outputs": [
    {
     "data": {
      "image/png": "[encoded data removed]",
      "text/plain": [
       "<Figure size 640x480 with 1 Axes>"
      ]
     },
     "metadata": {},
     "output_type": "display_data"
    }
   ],
   "source": [
    "plt.bar(np.arange(26), np.max(y, axis=0), alpha=0.5, label=\"max\")\n",
    "plt.bar(np.arange(26), np.min(y, axis=0), alpha=0.5, label=\"min\")\n",
    "plt.legend()\n",
    "plt.show()"
   ]
  },
  {
   "cell_type": "code",
   "execution_count": null,
   "metadata": {},
   "outputs": [],
   "source": []
  },
  {
   "cell_type": "code",
   "execution_count": 24,
   "metadata": {},
   "outputs": [],
   "source": [
    "def save_object(obj, filename):\n",
    "    dill.dump(obj, file=open(filename, \"wb\"))"
   ]
  },
  {
   "cell_type": "code",
   "execution_count": 26,
   "metadata": {},
   "outputs": [],
   "source": [
    "save_object(x_scaler, 'x_scaler.dill')"
   ]
  },
  {
   "cell_type": "code",
   "execution_count": 27,
   "metadata": {},
   "outputs": [],
   "source": [
    "save_object(y_scaler, 'y_scaler.dill')"
   ]
  },
  {
   "cell_type": "code",
   "execution_count": 16,
   "metadata": {},
   "outputs": [],
   "source": [
    "x_scaler = dill.load(open(f\"x_minmax_scaler.pkl\", 'rb'))\n",
    "y_scaler = dill.load(open(f\"y_minmax_scaler.pkl\", 'rb'))"
   ]
  },
  {
   "cell_type": "code",
   "execution_count": 32,
   "metadata": {},
   "outputs": [],
   "source": [
    "def sort_fn(filename):\n",
    "    date_string = filename[-14:-4]\n",
    "    datetime_object = datetime.datetime.strptime(date_string, \"%Y_%m_%d\")\n",
    "    return datetime_object\n",
    "\n",
    "x_path = sorted(glob.glob(\"../CAM5/inputs*\"), key=sort_fn)\n",
    "y_path = sorted(glob.glob(\"../CAM5/outputs*\"), key=sort_fn)"
   ]
  },
  {
   "cell_type": "code",
   "execution_count": 36,
   "metadata": {},
   "outputs": [],
   "source": [
    "x = np.load(x_path[0])[:, :-1]\n",
    "x = x_scaler.transform(x)"
   ]
  },
  {
   "cell_type": "code",
   "execution_count": 40,
   "metadata": {},
   "outputs": [
    {
     "data": {
      "text/plain": [
       "1.5042228"
      ]
     },
     "execution_count": 40,
     "metadata": {},
     "output_type": "execute_result"
    }
   ],
   "source": [
    "x.max()"
   ]
  },
  {
   "cell_type": "code",
   "execution_count": 22,
   "metadata": {},
   "outputs": [
    {
     "data": {
      "text/plain": [
       "(109,)"
      ]
     },
     "execution_count": 22,
     "metadata": {},
     "output_type": "execute_result"
    }
   ],
   "source": [
    "x_scaler.min.shape"
   ]
  },
  {
   "cell_type": "code",
   "execution_count": 21,
   "metadata": {},
   "outputs": [
    {
     "data": {
      "text/plain": [
       "(112,)"
      ]
     },
     "execution_count": 21,
     "metadata": {},
     "output_type": "execute_result"
    }
   ],
   "source": [
    "y_scaler.min.shape"
   ]
  }
 ],
 "metadata": {
  "kernelspec": {
   "display_name": "torch",
   "language": "python",
   "name": "python3"
  },
  "language_info": {
   "codemirror_mode": {
    "name": "ipython",
    "version": 3
   },
   "file_extension": ".py",
   "mimetype": "text/x-python",
   "name": "python",
   "nbconvert_exporter": "python",
   "pygments_lexer": "ipython3",
   "version": "3.10.8"
  },
  "orig_nbformat": 4,
  "vscode": {
   "interpreter": {
    "hash": "a5529f52d43dbfc9fee230ba5e7607dce6de3247df14ba2bd24aec3ce54489fd"
   }
  }
 },
 "nbformat": 4,
 "nbformat_minor": 2
}
