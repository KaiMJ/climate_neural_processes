{
 "cells": [
  {
   "cell_type": "code",
   "execution_count": 8,
   "metadata": {},
   "outputs": [],
   "source": [
    "import numpy as np\n",
    "import glob\n",
    "import dill\n",
    "from tqdm import tqdm\n",
    "from utils import MinMaxScaler, StandardScaler, make_dir, sort_fn, save_object\n",
    "import matplotlib.pyplot as plt\n",
    "from multiprocessing import Pool"
   ]
  },
  {
   "cell_type": "code",
   "execution_count": 9,
   "metadata": {},
   "outputs": [],
   "source": [
    "x_paths = sorted(glob.glob(\"../data/SPCAM5/inputs_*\"), key=sort_fn)\n",
    "y_paths = sorted(glob.glob(\"../data/SPCAM5/outputs_*\"), key=sort_fn)"
   ]
  },
  {
   "cell_type": "code",
   "execution_count": 25,
   "metadata": {},
   "outputs": [],
   "source": [
    "n = 183 # first dataset: 6 monnths\n",
    "# train_x = x_paths[:int(n*0.8)]\n",
    "# train_y = y_paths[:int(n*0.8)]\n",
    "# val_x = x_paths[int(n*0.8): n]\n",
    "# val_y = y_paths[int(n*0.8): n]\n",
    "# test_x = x_paths[n:365]\n",
    "# test_y = y_paths[n:365]\n",
    "\n",
    "n = 365 # second dataset: 1 year\n",
    "train_x = x_paths[:int(n*0.8)]\n",
    "train_y = y_paths[:int(n*0.8)]\n",
    "val_x = x_paths[int(n*0.8): n]\n",
    "val_y = y_paths[int(n*0.8): n]\n",
    "test_x = x_paths[n:]\n",
    "test_y = y_paths[n:]"
   ]
  },
  {
   "cell_type": "code",
   "execution_count": 26,
   "metadata": {},
   "outputs": [
    {
     "name": "stderr",
     "output_type": "stream",
     "text": [
      "100%|██████████| 292/292 [33:06<00:00,  6.80s/it]\n"
     ]
    }
   ],
   "source": [
    "x_scaler_minmax = MinMaxScaler()\n",
    "y_scaler_minmax = MinMaxScaler()\n",
    "x_scaler_standard = StandardScaler()\n",
    "y_scaler_standard = StandardScaler()\n",
    "\n",
    "x_max = 0\n",
    "y_max = 0\n",
    "\n",
    "def fit_scalers(paths, x_max, y_max):\n",
    "    x_path, y_path = paths\n",
    "    x = np.load(x_path, mmap_mode=\"r\")\n",
    "    y = np.load(y_path, mmap_mode=\"r\")[:, :26]\n",
    "    x_scaler_minmax.fit(x)\n",
    "    y_scaler_minmax.fit(y)\n",
    "    x_scaler_standard.fit(x)\n",
    "    y_scaler_standard.fit(y)\n",
    "    return np.maximum(x_max, np.max(np.abs(x), 0)), np.maximum(y_max, np.max(np.abs(y), 0))\n",
    "\n",
    "\n",
    "for i in tqdm(range(len(train_x)), total=len(train_x)):\n",
    "    if i == 146:\n",
    "        np.save(f\"dataset_1_x_max.npy\", x_max)\n",
    "        np.save(f\"dataset_1_y_max.npy\", y_max)\n",
    "        save_object(x_scaler_minmax, f\"dataset_1_x_scaler_minmax.pkl\")\n",
    "        save_object(y_scaler_minmax, f\"dataset_1_y_scaler_minmax.pkl\")\n",
    "        save_object(x_scaler_standard, f\"dataset_1_x_scaler_standard.pkl\")\n",
    "        save_object(y_scaler_standard, f\"dataset_1_y_scaler_standard.pkl\")\n",
    "    x_max, y_max = fit_scalers([train_x[i], train_y[i]], x_max, y_max)\n",
    "\n",
    "np.save(f\"dataset_2_x_max.npy\", x_max)\n",
    "np.save(f\"dataset_2_y_max.npy\", y_max)\n",
    "\n",
    "save_object(x_scaler_minmax, f\"dataset_2_x_scaler_minmax.pkl\")\n",
    "save_object(y_scaler_minmax, f\"dataset_2_y_scaler_minmax.pkl\")\n",
    "save_object(x_scaler_standard, f\"dataset_2_x_scaler_standard.pkl\")\n",
    "save_object(y_scaler_standard, f\"dataset_2_y_scaler_standard.pkl\")"
   ]
  },
  {
   "cell_type": "code",
   "execution_count": null,
   "metadata": {},
   "outputs": [],
   "source": [
    "# x_scaler_minmax = dill.load(open(\"dataset_1_x_scaler_minmax.pkl\", \"rb\"))\n",
    "# y_scaler_minmax = dill.load(open(\"dataset_1_y_scaler_minmax.pkl\", \"rb\"))\n",
    "# x_scaler_standard = dill.load(open(\"dataset_1_x_scaler_standard.pkl\", \"rb\"))\n",
    "# y_scaler_standard = dill.load(open(\"dataset_1_y_scaler_standard.pkl\", \"rb\"))"
   ]
  }
 ],
 "metadata": {
  "kernelspec": {
   "display_name": "torch",
   "language": "python",
   "name": "python3"
  },
  "language_info": {
   "codemirror_mode": {
    "name": "ipython",
    "version": 3
   },
   "file_extension": ".py",
   "mimetype": "text/x-python",
   "name": "python",
   "nbconvert_exporter": "python",
   "pygments_lexer": "ipython3",
   "version": "3.10.4"
  },
  "orig_nbformat": 4,
  "vscode": {
   "interpreter": {
    "hash": "a5529f52d43dbfc9fee230ba5e7607dce6de3247df14ba2bd24aec3ce54489fd"
   }
  }
 },
 "nbformat": 4,
 "nbformat_minor": 2
}
