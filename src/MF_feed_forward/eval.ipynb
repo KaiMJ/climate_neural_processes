{
 "cells": [
  {
   "attachments": {},
   "cell_type": "markdown",
   "metadata": {},
   "source": [
    "# Get metrics and Plot"
   ]
  },
  {
   "cell_type": "code",
   "execution_count": 1,
   "metadata": {},
   "outputs": [],
   "source": [
    "import numpy as np\n",
    "\n",
    "import matplotlib.pyplot as plt\n",
    "from lib.eval import *\n",
    "import numpy as np"
   ]
  },
  {
   "cell_type": "code",
   "execution_count": 2,
   "metadata": {},
   "outputs": [],
   "source": [
    "# Original\n",
    "log_dir = \"logs/NN_train_seed0_lr0.000227_bs_1_Mon May  8 18:23:51 2023\"\n",
    "# transfer learning\n",
    "log_dir = \"logs/NN_transfer_seed0_lr0.000227_bs_1_Fri May 19 06:51:23 2023\"\n",
    "\n",
    "evaluator = Evaluator(log_dir)"
   ]
  },
  {
   "cell_type": "code",
   "execution_count": 3,
   "metadata": {},
   "outputs": [
    {
     "name": "stderr",
     "output_type": "stream",
     "text": [
      "100%|██████████| 292/292 [04:25<00:00,  1.10it/s]\n",
      "100%|██████████| 292/292 [06:33<00:00,  1.35s/it]\n"
     ]
    },
    {
     "ename": "AttributeError",
     "evalue": "'Evaluator' object has no attribute 'val_loader'",
     "output_type": "error",
     "traceback": [
      "\u001b[0;31m---------------------------------------------------------------------------\u001b[0m",
      "\u001b[0;31mAttributeError\u001b[0m                            Traceback (most recent call last)",
      "Cell \u001b[0;32mIn[3], line 2\u001b[0m\n\u001b[1;32m      1\u001b[0m train_non_mae, train_nmae, train_r \u001b[39m=\u001b[39m evaluator\u001b[39m.\u001b[39mget_metrics(evaluator\u001b[39m.\u001b[39mtrain_loader)\n\u001b[0;32m----> 2\u001b[0m valid_non_mae, valid_nmae, valid_r \u001b[39m=\u001b[39m evaluator\u001b[39m.\u001b[39mget_metrics(evaluator\u001b[39m.\u001b[39;49mval_loader)\n\u001b[1;32m      3\u001b[0m test_non_mae, test_nmae, test_r \u001b[39m=\u001b[39m evaluator\u001b[39m.\u001b[39mget_metrics(evaluator\u001b[39m.\u001b[39mtest_loader)\n\u001b[1;32m      4\u001b[0m train_r \u001b[39m=\u001b[39m train_r\u001b[39m*\u001b[39m\u001b[39m*\u001b[39m\u001b[39m2\u001b[39m\n",
      "\u001b[0;31mAttributeError\u001b[0m: 'Evaluator' object has no attribute 'val_loader'"
     ]
    }
   ],
   "source": [
    "train_non_mae, train_nmae, train_r = evaluator.get_metrics(evaluator.train_loader)\n",
    "valid_non_mae, valid_nmae, valid_r = evaluator.get_metrics(evaluator.val_loader)\n",
    "test_non_mae, test_nmae, test_r = evaluator.get_metrics(evaluator.test_loader)\n",
    "train_r = train_r**2\n",
    "valid_r = valid_r**2\n",
    "test_r = test_r**2"
   ]
  },
  {
   "cell_type": "code",
   "execution_count": null,
   "metadata": {},
   "outputs": [],
   "source": [
    "dir = \"../../notebooks/metrics/\"\n",
    "name = \"DNN-T\"\n",
    "np.save(dir+name+\"_train_MAE.npy\", train_non_mae)\n",
    "np.save(dir+name+\"_train_NMAE.npy\", train_nmae)\n",
    "np.save(dir+name+\"_train_R2.npy\", train_r)\n",
    "np.save(dir+name+\"_valid_MAE.npy\", valid_non_mae)\n",
    "np.save(dir+name+\"_valid_NMAE.npy\", valid_nmae)\n",
    "np.save(dir+name+\"_valid_R2.npy\", valid_r)\n",
    "np.save(dir+name+\"_test_MAE.npy\", test_non_mae)\n",
    "np.save(dir+name+\"_test_NMAE.npy\", test_nmae)\n",
    "np.save(dir+name+\"_test_R2.npy\", test_r)"
   ]
  },
  {
   "cell_type": "code",
   "execution_count": null,
   "metadata": {},
   "outputs": [],
   "source": []
  }
 ],
 "metadata": {
  "kernelspec": {
   "display_name": "torch",
   "language": "python",
   "name": "python3"
  },
  "language_info": {
   "codemirror_mode": {
    "name": "ipython",
    "version": 3
   },
   "file_extension": ".py",
   "mimetype": "text/x-python",
   "name": "python",
   "nbconvert_exporter": "python",
   "pygments_lexer": "ipython3",
   "version": "3.10.11"
  },
  "orig_nbformat": 4,
  "vscode": {
   "interpreter": {
    "hash": "a5529f52d43dbfc9fee230ba5e7607dce6de3247df14ba2bd24aec3ce54489fd"
   }
  }
 },
 "nbformat": 4,
 "nbformat_minor": 2
}
