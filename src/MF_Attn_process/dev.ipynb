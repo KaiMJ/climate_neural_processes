{
 "cells": [
  {
   "cell_type": "code",
   "execution_count": 1,
   "metadata": {},
   "outputs": [
    {
     "name": "stderr",
     "output_type": "stream",
     "text": [
      "/data/kai/torch/lib/python3.10/site-packages/tqdm/auto.py:22: TqdmWarning: IProgress not found. Please update jupyter and ipywidgets. See https://ipywidgets.readthedocs.io/en/stable/user_install.html\n",
      "  from .autonotebook import tqdm as notebook_tqdm\n"
     ]
    }
   ],
   "source": [
    "import numpy as np\n",
    "from MF_Attn_process.lib.model import *\n",
    "import yaml\n",
    "import torch\n",
    "import glob"
   ]
  },
  {
   "cell_type": "code",
   "execution_count": 2,
   "metadata": {},
   "outputs": [],
   "source": [
    "config = yaml.safe_load(open('config.yaml'))['model']"
   ]
  },
  {
   "cell_type": "code",
   "execution_count": 3,
   "metadata": {},
   "outputs": [],
   "source": [
    "data_l1_x = \"/data/allen/climate_data/SPCAM5/inputs_*\"\n",
    "data_l1_y = \"/data/allen/climate_data/SPCAM5/outputs_*\"\n",
    "data_l2_x = \"/data/allen/climate_data/CAM5/inputs_*\"\n",
    "data_l2_y = \"/data/allen/climate_data/CAM5/outputs_*\"\n",
    "\n",
    "l1_x_data = sorted(glob.glob(data_l1_x))\n",
    "l1_y_data = sorted(glob.glob(data_l1_y))\n",
    "l2_x_data = sorted(glob.glob(data_l2_x))\n",
    "l2_y_data = sorted(glob.glob(data_l2_y))\n",
    "\n",
    "l1_x = torch.from_numpy(np.load(l1_x_data[0]))\n",
    "l1_y = torch.from_numpy(np.load(l1_y_data[0]))\n",
    "l2_x = torch.from_numpy(np.load(l2_x_data[0]))\n",
    "l2_y = torch.from_numpy(np.load(l2_y_data[0]))\n",
    "\n",
    "l1_x_all = l1_x[:10].unsqueeze(0)\n",
    "l1_y_all = l1_y[:10, :26].unsqueeze(0)\n",
    "l2_x_all = l2_x[:10].unsqueeze(0)\n",
    "l2_y_all = l2_y[:10, :26].unsqueeze(0)\n",
    "\n",
    "l1_x_context = l1_x[:10].unsqueeze(0)\n",
    "l1_y_context = l1_y[:10, :26].unsqueeze(0)\n",
    "l2_x_context = l2_x[:10].unsqueeze(0)\n",
    "l2_y_context = l2_y[:10, :26].unsqueeze(0)\n",
    "\n",
    "l1_x_target = l1_x[10:20].unsqueeze(0)\n",
    "l1_y_target = l1_y[10:20, :26].unsqueeze(0)\n",
    "l2_x_target = l2_x[10:20].unsqueeze(0)\n",
    "l2_y_target = l2_y[10:20, :26].unsqueeze(0)"
   ]
  },
  {
   "cell_type": "code",
   "execution_count": 19,
   "metadata": {},
   "outputs": [],
   "source": [
    "class MLP_Z1Z2_Encoder(nn.Module):\n",
    "\n",
    "    def __init__(self, config):\n",
    "        dim = config['hidden_dim']\n",
    "        in_dim = dim * 2 # hidden, l_r/l_z\n",
    "        hidden_dim = dim\n",
    "        out_dim = dim\n",
    "        hidden_layers = config['hidden_layers']\n",
    "        \n",
    "        nn.Module.__init__(self)\n",
    "        layers = [nn.Linear(in_dim, hidden_dim), nn.ELU()]\n",
    "        for _ in range(hidden_layers - 1):\n",
    "            # layers.append(nn.LayerNorm(hidden_dim))\n",
    "            layers += [nn.Linear(hidden_dim, hidden_dim), nn.ELU()]\n",
    "        layers.append(nn.Linear(hidden_dim, hidden_dim))\n",
    "\n",
    "        self.model = nn.Sequential(*layers)\n",
    "        self.mean_out = nn.Linear(hidden_dim, out_dim)\n",
    "\n",
    "    def forward(self, l_z, l_r):\n",
    "        output = self.model(torch.cat([l_z, l_r], dim=-1))\n",
    "        mean = self.mean_out(output)\n",
    "\n",
    "        return mean"
   ]
  },
  {
   "cell_type": "code",
   "execution_count": 20,
   "metadata": {},
   "outputs": [],
   "source": [
    "model = Model(config)\n",
    "z2_z1_encoder = MLP_Z1Z2_Encoder(config)"
   ]
  },
  {
   "cell_type": "code",
   "execution_count": 37,
   "metadata": {},
   "outputs": [],
   "source": [
    "class LatentEncoder(nn.Module):\n",
    "    \"\"\"\n",
    "    Latent Encoder [For prior, posterior]\n",
    "    \"\"\"\n",
    "\n",
    "    def __init__(self, config, level=1):\n",
    "        super(LatentEncoder, self).__init__()\n",
    "        if level == 1:\n",
    "            input_dim = config['l1_input_dim']\n",
    "            output_dim = config['l1_output_dim']\n",
    "        if level == 2:\n",
    "            input_dim = config['l2_input_dim']\n",
    "            output_dim = config['l2_output_dim']\n",
    "            self.l1z_l2z_encoder = MLP_Z1Z2_Encoder(config)\n",
    "        hidden_dim = config['hidden_dim']\n",
    "\n",
    "        attention_layers = config['attention_layers']\n",
    "\n",
    "        self.input_projection = Linear(input_dim+output_dim, hidden_dim)\n",
    "        self.layer_norm = nn.LayerNorm(hidden_dim)\n",
    "        self.self_attentions = nn.ModuleList(\n",
    "            [Attention(config) for _ in range(attention_layers)])\n",
    "        self.penultimate_layer = Linear(hidden_dim, hidden_dim, w_init='relu')\n",
    "        self.mu = Linear(hidden_dim, hidden_dim)\n",
    "        self.log_sigma = Linear(hidden_dim, hidden_dim)\n",
    "\n",
    "    def forward(self, x, y, l_z=None):\n",
    "        # concat location (x) and value (y)\n",
    "        encoder_input = t.cat([x, y], dim=-1)\n",
    "            \n",
    "\n",
    "        # project vector with dimension 132+136 --> hidden_dim\n",
    "        encoder_input = self.input_projection(encoder_input)\n",
    "        encoder_input = self.layer_norm(encoder_input)\n",
    "\n",
    "        # self attention layer\n",
    "        for attention in self.self_attentions:\n",
    "            encoder_input, _ = attention(\n",
    "                encoder_input, encoder_input, encoder_input)\n",
    "\n",
    "        # mean\n",
    "        hidden = encoder_input.mean(dim=1)\n",
    "        hidden = t.relu(self.penultimate_layer(hidden))\n",
    "\n",
    "        # z_mu combine with hidden if level==2\n",
    "        if l_z is not None:\n",
    "            hidden = self.l1z_l2z_encoder(hidden, l_z)\n",
    "            print(hidden.shape)\n",
    "\n",
    "\n",
    "        # get mu and sigma\n",
    "        mu = self.mu(hidden)\n",
    "        log_sigma = self.log_sigma(hidden)\n",
    "\n",
    "        # reparameterization trick\n",
    "        std = t.exp(0.5 * log_sigma)\n",
    "        eps = t.randn_like(std)\n",
    "        z = eps.mul(std).add_(mu)\n",
    "\n",
    "        # return distribution\n",
    "        return mu, log_sigma, z"
   ]
  },
  {
   "cell_type": "code",
   "execution_count": 38,
   "metadata": {},
   "outputs": [],
   "source": [
    "class DeterministicEncoder(nn.Module):\n",
    "    \"\"\"\n",
    "    Deterministic Encoder [r]\n",
    "    \"\"\"\n",
    "\n",
    "    def __init__(self, config, level=1):\n",
    "        super(DeterministicEncoder, self).__init__()\n",
    "        if level == 1:\n",
    "            input_dim = config['l1_input_dim']\n",
    "            output_dim = config['l1_output_dim']\n",
    "        if level == 2:\n",
    "            input_dim = config['l2_input_dim']\n",
    "            output_dim = config['l2_output_dim']\n",
    "            self.l1r_l2r_encoder = MLP_Z1Z2_Encoder(config)\n",
    "        hidden_dim = config['hidden_dim']\n",
    "        attention_layers = config['attention_layers']\n",
    "\n",
    "        self.self_attentions = nn.ModuleList(\n",
    "            [Attention(config) for _ in range(attention_layers)])\n",
    "        self.cross_attentions = nn.ModuleList(\n",
    "            [Attention(config) for _ in range(attention_layers)])\n",
    "        self.input_projection = Linear(input_dim+output_dim, hidden_dim)\n",
    "        self.context_projection = Linear(input_dim, hidden_dim)\n",
    "        self.target_projection = Linear(input_dim, hidden_dim)\n",
    "        self.layer_norm = nn.LayerNorm(hidden_dim)\n",
    "\n",
    "    def forward(self, context_x, context_y, target_x, l_r=None):\n",
    "        # concat context location (x), context value (y)\n",
    "        encoder_input = t.cat([context_x, context_y], dim=-1)\n",
    "\n",
    "        # project vector with dimension 132+136 --> num_hidden\n",
    "        encoder_input = self.input_projection(encoder_input)\n",
    "        encoder_input = self.layer_norm(encoder_input)\n",
    "\n",
    "        # self attention layer\n",
    "        for attention in self.self_attentions:\n",
    "            encoder_input, _ = attention(\n",
    "                encoder_input, encoder_input, encoder_input)\n",
    "\n",
    "        # query: target_x, key: context_x, value: representation\n",
    "        query = self.target_projection(target_x)\n",
    "        keys = self.context_projection(context_x)\n",
    "\n",
    "        # cross attention layer\n",
    "        for attention in self.cross_attentions:\n",
    "            query, _ = attention(keys, encoder_input, query)\n",
    "\n",
    "        if l_r is not None:\n",
    "            query = self.l1r_l2r_encoder(query, l_r)\n",
    "\n",
    "        return query"
   ]
  },
  {
   "cell_type": "code",
   "execution_count": 39,
   "metadata": {},
   "outputs": [],
   "source": [
    "l1_latent = LatentEncoder(config, level=1)\n",
    "l2_latent = LatentEncoder(config, level=2)\n",
    "l1_determ = DeterministicEncoder(config, level=1)\n",
    "l2_determ = DeterministicEncoder(config, level=2)\n",
    "l1_decoder = Decoder(config, level=1)\n",
    "l2_decoder = Decoder(config, level=2)"
   ]
  },
  {
   "cell_type": "code",
   "execution_count": 45,
   "metadata": {},
   "outputs": [],
   "source": [
    "l1_y_target = None\n",
    "l2_y_target = None"
   ]
  },
  {
   "cell_type": "code",
   "execution_count": 46,
   "metadata": {},
   "outputs": [
    {
     "name": "stdout",
     "output_type": "stream",
     "text": [
      "torch.Size([1, 64])\n"
     ]
    }
   ],
   "source": [
    "l1_z_mu_c, l1_z_cov_c, l1_prior_z = l1_latent(l1_x_context, l1_y_context)\n",
    "l2_z_mu_c, l2_z_cov_c, l2_prior_z = l2_latent(l2_x_context, l2_y_context, l1_z_mu_c)\n",
    "\n",
    "if l1_y_target is not None:\n",
    "    l1_z_mu_all, l1_z_cov_all, l1_posterior_z = l1_latent(l1_x_target, l1_y_target)\n",
    "    l1_z = l1_posterior_z\n",
    "else:\n",
    "    l1_z = l1_prior_z\n",
    "\n",
    "if l2_y_target is not None:\n",
    "    l2_z_mu_all, l2_z_cov_all, l2_posterior_z = l2_latent(l2_x_target, l2_y_target, l1_z_mu_all)\n",
    "    l2_z = l2_posterior_z\n",
    "else:\n",
    "    l2_z = l2_prior_z\n",
    "\n",
    "\n",
    "l1_r = l1_determ(l1_x_context, l1_y_context, l1_x_target)  # [B, T_target, H]\n",
    "l2_r = l2_determ(l2_x_context, l2_y_context, l2_x_target, l1_r)"
   ]
  },
  {
   "cell_type": "code",
   "execution_count": 47,
   "metadata": {},
   "outputs": [],
   "source": [
    "l1_z = l1_z_mu_c.unsqueeze(1).repeat(1, l1_x_target.size(1), 1)\n",
    "l2_z = l2_z_mu_c.unsqueeze(1).repeat(1, l2_x_target.size(1), 1)\n",
    "l1_output_mu, l1_output_cov = l1_decoder(l1_r, l1_z, l1_x_target)\n",
    "l2_output_mu, l2_output_cov = l2_decoder(l2_r, l2_z, l2_x_target)"
   ]
  }
 ],
 "metadata": {
  "kernelspec": {
   "display_name": "Python 3",
   "language": "python",
   "name": "python3"
  },
  "language_info": {
   "codemirror_mode": {
    "name": "ipython",
    "version": 3
   },
   "file_extension": ".py",
   "mimetype": "text/x-python",
   "name": "python",
   "nbconvert_exporter": "python",
   "pygments_lexer": "ipython3",
   "version": "3.10.9"
  },
  "orig_nbformat": 4
 },
 "nbformat": 4,
 "nbformat_minor": 2
}
