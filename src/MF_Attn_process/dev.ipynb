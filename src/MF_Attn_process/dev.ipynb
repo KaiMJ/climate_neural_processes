{
 "cells": [
  {
   "cell_type": "code",
   "execution_count": 1,
   "metadata": {},
   "outputs": [
    {
     "name": "stderr",
     "output_type": "stream",
     "text": [
      "/data/kai/torch/lib/python3.10/site-packages/tqdm/auto.py:22: TqdmWarning: IProgress not found. Please update jupyter and ipywidgets. See https://ipywidgets.readthedocs.io/en/stable/user_install.html\n",
      "  from .autonotebook import tqdm as notebook_tqdm\n"
     ]
    }
   ],
   "source": [
    "import numpy as np\n",
    "from model import *\n",
    "import yaml\n",
    "import torch\n",
    "import glob"
   ]
  },
  {
   "cell_type": "code",
   "execution_count": 2,
   "metadata": {},
   "outputs": [],
   "source": [
    "config = yaml.safe_load(open('config.yaml'))['model']"
   ]
  },
  {
   "cell_type": "code",
   "execution_count": 3,
   "metadata": {},
   "outputs": [],
   "source": [
    "data_l1_x = \"/data/allen/climate_data/SPCAM5/inputs_*\"\n",
    "data_l1_y = \"/data/allen/climate_data/SPCAM5/outputs_*\"\n",
    "data_l2_x = \"/data/allen/climate_data/CAM5/inputs_*\"\n",
    "data_l2_y = \"/data/allen/climate_data/CAM5/outputs_*\"\n",
    "\n",
    "l1_x_data = sorted(glob.glob(data_l1_x))\n",
    "l1_y_data = sorted(glob.glob(data_l1_y))\n",
    "l2_x_data = sorted(glob.glob(data_l2_x))\n",
    "l2_y_data = sorted(glob.glob(data_l2_y))"
   ]
  },
  {
   "cell_type": "code",
   "execution_count": 4,
   "metadata": {},
   "outputs": [],
   "source": [
    "l1_x = torch.from_numpy(np.load(l1_x_data[0]))\n",
    "l1_y = torch.from_numpy(np.load(l1_y_data[0]))\n",
    "l2_x = torch.from_numpy(np.load(l2_x_data[0]))\n",
    "l2_y = torch.from_numpy(np.load(l2_y_data[0]))"
   ]
  },
  {
   "cell_type": "code",
   "execution_count": 5,
   "metadata": {},
   "outputs": [],
   "source": [
    "model = Model(config)"
   ]
  },
  {
   "cell_type": "code",
   "execution_count": 7,
   "metadata": {},
   "outputs": [],
   "source": [
    "l1_x_context = l1_x[:10].unsqueeze(0)\n",
    "l1_y_context = l1_y[:10, :26].unsqueeze(0)\n",
    "l2_x_context = l2_x[:10].unsqueeze(0)\n",
    "l2_y_context = l2_y[:10, :26].unsqueeze(0)\n",
    "\n",
    "l1_x_target = l1_x[10:20].unsqueeze(0)\n",
    "l1_y_target = l1_y[10:20, :26].unsqueeze(0)\n",
    "l2_x_target = l2_x[10:20].unsqueeze(0)\n",
    "l2_y_target = l2_y[10:20, :26].unsqueeze(0)"
   ]
  },
  {
   "cell_type": "code",
   "execution_count": 14,
   "metadata": {},
   "outputs": [],
   "source": [
    "\n",
    "class LatentEncoder(nn.Module):\n",
    "    \"\"\"\n",
    "    Latent Encoder [For prior, posterior]\n",
    "    \"\"\"\n",
    "\n",
    "    def __init__(self, config, level=1):\n",
    "        super(LatentEncoder, self).__init__()\n",
    "        if level == 1:\n",
    "            input_dim = config['l1_input_dim']\n",
    "            output_dim = config['l1_output_dim']\n",
    "        if level == 2:\n",
    "            input_dim = config['l2_input_dim']\n",
    "            output_dim = config['l2_output_dim']\n",
    "        hidden_dim = config['hidden_dim']\n",
    "\n",
    "        attention_layers = config['attention_layers']\n",
    "\n",
    "        self.input_projection = Linear(input_dim+output_dim, hidden_dim)\n",
    "        self.layer_norm = nn.LayerNorm(hidden_dim)\n",
    "        self.self_attentions = nn.ModuleList(\n",
    "            [Attention(config) for _ in range(attention_layers)])\n",
    "        self.penultimate_layer = Linear(hidden_dim, hidden_dim, w_init='relu')\n",
    "        self.mu = Linear(hidden_dim, hidden_dim)\n",
    "        self.log_sigma = Linear(hidden_dim, hidden_dim)\n",
    "\n",
    "    def forward(self, x, y):\n",
    "        # concat location (x) and value (y)\n",
    "        encoder_input = t.cat([x, y], dim=-1)\n",
    "\n",
    "        # project vector with dimension 132+136 --> hidden_dim\n",
    "        encoder_input = self.input_projection(encoder_input)\n",
    "        encoder_input = self.layer_norm(encoder_input)\n",
    "\n",
    "        # self attention layer\n",
    "        for attention in self.self_attentions:\n",
    "            encoder_input, _ = attention(\n",
    "                encoder_input, encoder_input, encoder_input)\n",
    "\n",
    "        # mean\n",
    "        hidden = encoder_input.mean(dim=1)\n",
    "        hidden = t.relu(self.penultimate_layer(hidden))\n",
    "        # get mu and sigma\n",
    "        mu = self.mu(hidden)\n",
    "        log_sigma = self.log_sigma(hidden)\n",
    "\n",
    "        # reparameterization trick\n",
    "        std = t.exp(0.5 * log_sigma)\n",
    "        eps = t.randn_like(std)\n",
    "        z = eps.mul(std).add_(mu)\n",
    "\n",
    "        # return distribution\n",
    "        return mu, log_sigma, z"
   ]
  },
  {
   "cell_type": "code",
   "execution_count": 18,
   "metadata": {},
   "outputs": [],
   "source": [
    "latent = LatentEncoder(config, level=1)"
   ]
  },
  {
   "cell_type": "code",
   "execution_count": 19,
   "metadata": {},
   "outputs": [],
   "source": [
    "mu, log_sigma, z = latent(l1_x_context, l1_y_context)"
   ]
  },
  {
   "cell_type": "code",
   "execution_count": 20,
   "metadata": {},
   "outputs": [
    {
     "data": {
      "text/plain": [
       "(torch.Size([1, 64]), torch.Size([1, 64]), torch.Size([1, 64]))"
      ]
     },
     "execution_count": 20,
     "metadata": {},
     "output_type": "execute_result"
    }
   ],
   "source": [
    "mu.shape, log_sigma.shape, z.shape"
   ]
  },
  {
   "cell_type": "code",
   "execution_count": null,
   "metadata": {},
   "outputs": [],
   "source": []
  }
 ],
 "metadata": {
  "kernelspec": {
   "display_name": "Python 3",
   "language": "python",
   "name": "python3"
  },
  "language_info": {
   "codemirror_mode": {
    "name": "ipython",
    "version": 3
   },
   "file_extension": ".py",
   "mimetype": "text/x-python",
   "name": "python",
   "nbconvert_exporter": "python",
   "pygments_lexer": "ipython3",
   "version": "3.10.9"
  },
  "orig_nbformat": 4
 },
 "nbformat": 4,
 "nbformat_minor": 2
}
