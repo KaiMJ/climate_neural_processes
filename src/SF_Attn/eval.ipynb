{
 "cells": [
  {
   "cell_type": "code",
   "execution_count": 1,
   "metadata": {},
   "outputs": [],
   "source": [
    "from lib.eval import *\n",
    "import matplotlib.pyplot as plt\n",
    "from sklearn.metrics import r2_score\n"
   ]
  },
  {
   "cell_type": "code",
   "execution_count": 2,
   "metadata": {},
   "outputs": [
    {
     "ename": "NotADirectoryError",
     "evalue": "[Errno 20] Not a directory: '/data/kai/climate_neural_processes/src/SF_Attn/logs/sfattn_train_seed0_lr0.000139_bs_1_Thu May 25 17:44:42 2023/best.pt/saved_config.yaml'",
     "output_type": "error",
     "traceback": [
      "\u001b[0;31m---------------------------------------------------------------------------\u001b[0m",
      "\u001b[0;31mNotADirectoryError\u001b[0m                        Traceback (most recent call last)",
      "Cell \u001b[0;32mIn[2], line 2\u001b[0m\n\u001b[1;32m      1\u001b[0m log_dir \u001b[39m=\u001b[39m \u001b[39m\"\u001b[39m\u001b[39m/data/kai/climate_neural_processes/src/SF_Attn/logs/sfattn_train_seed0_lr0.000139_bs_1_Thu May 25 17:44:42 2023/best.pt\u001b[39m\u001b[39m\"\u001b[39m\n\u001b[0;32m----> 2\u001b[0m evaluator \u001b[39m=\u001b[39m Evaluator(log_dir)\n",
      "File \u001b[0;32m/data/kai/climate_neural_processes/src/SF_Attn/lib/eval.py:20\u001b[0m, in \u001b[0;36mEvaluator.__init__\u001b[0;34m(self, dirpath)\u001b[0m\n\u001b[1;32m     18\u001b[0m \u001b[39mdef\u001b[39;00m \u001b[39m__init__\u001b[39m(\u001b[39mself\u001b[39m, dirpath):\n\u001b[1;32m     19\u001b[0m     \u001b[39mself\u001b[39m\u001b[39m.\u001b[39mdirpath \u001b[39m=\u001b[39m dirpath\n\u001b[0;32m---> 20\u001b[0m     \u001b[39mself\u001b[39m\u001b[39m.\u001b[39mconfig \u001b[39m=\u001b[39m yaml\u001b[39m.\u001b[39msafe_load(\u001b[39mopen\u001b[39;49m(\u001b[39mf\u001b[39;49m\u001b[39m\"\u001b[39;49m\u001b[39m{\u001b[39;49;00mdirpath\u001b[39m}\u001b[39;49;00m\u001b[39m/saved_config.yaml\u001b[39;49m\u001b[39m\"\u001b[39;49m))\n\u001b[1;32m     21\u001b[0m     \u001b[39mself\u001b[39m\u001b[39m.\u001b[39minit_dataloader()\n\u001b[1;32m     22\u001b[0m     \u001b[39mself\u001b[39m\u001b[39m.\u001b[39minit_model()\n",
      "\u001b[0;31mNotADirectoryError\u001b[0m: [Errno 20] Not a directory: '/data/kai/climate_neural_processes/src/SF_Attn/logs/sfattn_train_seed0_lr0.000139_bs_1_Thu May 25 17:44:42 2023/best.pt/saved_config.yaml'"
     ]
    }
   ],
   "source": [
    "log_dir = \"/data/kai/climate_neural_processes/src/SF_Attn/logs/sfattn_train_seed0_lr0.000139_bs_1_Thu May 25 17:44:42 2023\"\n",
    "evaluator = Evaluator(log_dir)"
   ]
  },
  {
   "cell_type": "code",
   "execution_count": 3,
   "metadata": {},
   "outputs": [
    {
     "data": {
      "image/png": "[encoded data removed]",
      "text/plain": [
       "<Figure size 432x288 with 1 Axes>"
      ]
     },
     "metadata": {
      "needs_background": "light"
     },
     "output_type": "display_data"
    }
   ],
   "source": [
    "train_values, valid_values = evaluator.get_loss()\n",
    "plt.plot(train_values, label=\"train\")\n",
    "plt.plot(valid_values, label=\"valid\")\n",
    "plt.xticks(np.arange(len(valid_values)))\n",
    "plt.yscale(\"log\")\n",
    "plt.legend()\n",
    "plt.show()"
   ]
  },
  {
   "cell_type": "code",
   "execution_count": 1,
   "metadata": {},
   "outputs": [
    {
     "ename": "NameError",
     "evalue": "name 'evaluator' is not defined",
     "output_type": "error",
     "traceback": [
      "\u001b[0;31m---------------------------------------------------------------------------\u001b[0m",
      "\u001b[0;31mNameError\u001b[0m                                 Traceback (most recent call last)",
      "Cell \u001b[0;32mIn[1], line 1\u001b[0m\n\u001b[0;32m----> 1\u001b[0m non_mae, nmae, r \u001b[39m=\u001b[39m evaluator\u001b[39m.\u001b[39mget_metrics(evaluator\u001b[39m.\u001b[39mtestloader)\n\u001b[1;32m      2\u001b[0m r \u001b[39m=\u001b[39m r\u001b[39m*\u001b[39m\u001b[39m*\u001b[39m\u001b[39m2\u001b[39m\n",
      "\u001b[0;31mNameError\u001b[0m: name 'evaluator' is not defined"
     ]
    }
   ],
   "source": [
    "non_mae, nmae, r = evaluator.get_metrics(evaluator.testloader)\n",
    "r = r**2"
   ]
  },
  {
   "cell_type": "code",
   "execution_count": null,
   "metadata": {},
   "outputs": [],
   "source": []
  },
  {
   "cell_type": "code",
   "execution_count": 5,
   "metadata": {},
   "outputs": [],
   "source": [
    "np.save(\"../../notebooks/metrics/MAE_SFANP.npy\", non_mae)\n",
    "np.save(\"../../notebooks/metrics/r2_SFANP.npy\", r)\n",
    "np.save(\"../../notebooks/metrics/NMAE_SFANP.npy\", nmae)\n",
    "# np.save(\"../../notebooks/metrics/train_MAE_SFANP.npy\", train_values)\n",
    "# np.save(\"../../notebooks/metrics/valid_MAE_SFANP.npy\", valid_values)"
   ]
  },
  {
   "cell_type": "code",
   "execution_count": null,
   "metadata": {},
   "outputs": [],
   "source": []
  },
  {
   "cell_type": "code",
   "execution_count": null,
   "metadata": {},
   "outputs": [],
   "source": []
  },
  {
   "cell_type": "code",
   "execution_count": 9,
   "metadata": {},
   "outputs": [],
   "source": [
    "# Make prediction on every value including context\n",
    "day, hour, idx = 5, 10, 2"
   ]
  },
  {
   "cell_type": "code",
   "execution_count": 6,
   "metadata": {},
   "outputs": [
    {
     "ename": "NameError",
     "evalue": "name 'day' is not defined",
     "output_type": "error",
     "traceback": [
      "\u001b[0;31m---------------------------------------------------------------------------\u001b[0m",
      "\u001b[0;31mNameError\u001b[0m                                 Traceback (most recent call last)",
      "\u001b[1;32m/home/mkim/Nserver/climate_processes/src/SF_Attn/eval.ipynb Cell 10\u001b[0m in \u001b[0;36m<cell line: 1>\u001b[0;34m()\u001b[0m\n\u001b[0;32m----> <a href='vscode-notebook-cell:/home/mkim/Nserver/climate_processes/src/SF_Attn/eval.ipynb#W4sZmlsZQ%3D%3D?line=0'>1</a>\u001b[0m non_y, non_y_pred, context_idxs, target_idxs \u001b[39m=\u001b[39m evaluator\u001b[39m.\u001b[39mplot_scenario(day\u001b[39m=\u001b[39mday, hour\u001b[39m=\u001b[39mhour, split\u001b[39m=\u001b[39m\u001b[39m\"\u001b[39m\u001b[39mtest\u001b[39m\u001b[39m\"\u001b[39m)\n\u001b[1;32m      <a href='vscode-notebook-cell:/home/mkim/Nserver/climate_processes/src/SF_Attn/eval.ipynb#W4sZmlsZQ%3D%3D?line=2'>3</a>\u001b[0m non_mae \u001b[39m=\u001b[39m mae_metric(non_y_pred, non_y, mean\u001b[39m=\u001b[39m\u001b[39mTrue\u001b[39;00m)\n\u001b[1;32m      <a href='vscode-notebook-cell:/home/mkim/Nserver/climate_processes/src/SF_Attn/eval.ipynb#W4sZmlsZQ%3D%3D?line=3'>4</a>\u001b[0m R_scores \u001b[39m=\u001b[39m []\n",
      "\u001b[0;31mNameError\u001b[0m: name 'day' is not defined"
     ]
    }
   ],
   "source": [
    "non_y, non_y_pred, context_idxs, target_idxs = evaluator.plot_scenario(day=day, hour=hour, split=\"test\")\n",
    "\n",
    "non_mae = mae_metric(non_y_pred, non_y, mean=True)\n",
    "R_scores = []\n",
    "vars = np.arange(26)\n",
    "for i in vars:\n",
    "    R_scores.append(r2_score(non_y[:, i], non_y_pred[:, i]))\n",
    "norm_mae = non_mae / np.abs(non_y).max(0)\n",
    "\n",
    "fig, axs = plt.subplots(1, 3, figsize=(15, 5))\n",
    "axs[0].bar(vars, R_scores)\n",
    "axs[0].set_title(\"R Scores\")\n",
    "axs[1].bar(vars, non_mae)\n",
    "axs[1].set_title(\"MAE Scores\")\n",
    "axs[2].bar(vars, norm_mae)\n",
    "axs[2].set_title(\"Norm-MAE Scores\")\n",
    "plt.suptitle(\"For each  26 variables\")\n",
    "plt.savefig(f\"../../notebooks/plots/sfanp_test_metrics_{day}D_{hour}H.jpg\")\n",
    "plt.show()\n",
    "\n",
    "fig, axs= plt.subplots(1, 2, figsize=(15, 5))\n",
    "axs[0].hist(non_y.flatten(), bins=100)\n",
    "axs[0].set_title(\"Ground Truth\")\n",
    "axs[1].hist(non_y_pred.flatten(), bins=100)\n",
    "axs[1].set_title(\"Predicted\")\n",
    "plt.suptitle(\"Histogram of 26 variables\")\n",
    "plt.savefig(f\"../../notebooks/plots/sfanp_test_hist_{day}D_{hour}H.jpg\")\n",
    "plt.show()\n",
    "\n",
    "\n",
    "non_y_img = non_y.reshape(96, 144, -1)[:, :, idx]\n",
    "vmin = non_y_img.min()\n",
    "vmax = non_y_img.max()\n",
    "\n",
    "contexts = np.zeros_like(non_y)\n",
    "contexts[context_idxs] = non_y[context_idxs]\n",
    "\n",
    "fig, axs = plt.subplots(1, 3, figsize=(15, 5))\n",
    "plt.set_cmap(\"inferno\")\n",
    "\n",
    "axs[0].imshow(contexts.reshape(96, 144, -1)[:, :, idx], vmin=vmin, vmax=vmax)\n",
    "axs[0].set_title(\"Context Y\")\n",
    "axs[1].imshow(non_y_img, vmin=vmin, vmax=vmax)\n",
    "axs[1].set_title(\"Truth Y\")\n",
    "pred_img = axs[2].imshow(non_y_pred.reshape(96, 144, -1)[:, :, idx], vmin=vmin, vmax=vmax)\n",
    "axs[2].set_title(\"Predicted Y\")\n",
    "fig.colorbar(pred_img, ax=axs[2])\n",
    "\n",
    "plt.suptitle(f\"NORM-MAE: {norm_mae.mean():.4f}\")\n",
    "plt.savefig(f\"../../notebooks/plots/sfanp_test_{day}D_{hour}H_{idx}V.jpg\")\n",
    "plt.show()"
   ]
  },
  {
   "cell_type": "code",
   "execution_count": 8,
   "metadata": {},
   "outputs": [
    {
     "data": {
      "image/png": "[encoded data removed]",
      "text/plain": [
       "<Figure size 1080x360 with 3 Axes>"
      ]
     },
     "metadata": {
      "needs_background": "light"
     },
     "output_type": "display_data"
    }
   ],
   "source": [
    "fig, axs = plt.subplots(1, 3, figsize=(15, 5))\n",
    "axs[0].bar(np.arange(26), non_mae)\n",
    "axs[0].set_title(\"Mean Absolute Error\")\n",
    "axs[1].bar(np.arange(26), nmae)\n",
    "axs[1].set_title(\"Normalized Mean Absolute Error\")\n",
    "axs[2].bar(np.arange(26), r)\n",
    "axs[2].set_title(\"Correlation Coefficient\")\n",
    "plt.savefig(\"../../notebooks/plots/sfAnp_test_metrics.jpg\")\n",
    "plt.show()"
   ]
  },
  {
   "cell_type": "code",
   "execution_count": 11,
   "metadata": {},
   "outputs": [],
   "source": [
    "# Convert to VTK"
   ]
  },
  {
   "cell_type": "code",
   "execution_count": null,
   "metadata": {},
   "outputs": [],
   "source": []
  },
  {
   "cell_type": "code",
   "execution_count": 13,
   "metadata": {},
   "outputs": [],
   "source": [
    "import vtk\n",
    "import numpy as np\n",
    "import os, sys, glob, dill\n",
    "from tqdm import trange\n",
    "import vtk.util.numpy_support as numpy_support\n",
    "\n",
    "def array_to_vtk(array, filename):\n",
    "    # Convert the NumPy array to a vtkImageData object\n",
    "    image = vtk.vtkImageData()\n",
    "    image.AllocateScalars(vtk.VTK_FLOAT, 1)\n",
    "\n",
    "    vtk_data = numpy_support.numpy_to_vtk(num_array=array.flatten(), deep=True, array_type=vtk.VTK_FLOAT)\n",
    "   \n",
    "    image.GetPointData().SetScalars(vtk_data)\n",
    "    image.SetDimensions(array.shape[::-1])\n",
    "\n",
    "    # Write the vtkImageData object to a VTK file\n",
    "    writer = vtk.vtkXMLImageDataWriter()\n",
    "    writer.SetFileName(f\"{filename}.vti\")\n",
    "    writer.SetInputData(image)\n",
    "    writer.Write()\n",
    "\n",
    "day, hour = 5, 10\n",
    "non_y, non_y_pred, context_idxs, target_idxs = evaluator.plot_scenario(day=day, hour=hour, split=\"test\")\n",
    "non_y = non_y.reshape(96, 144, -1)\n",
    "non_y_pred = non_y_pred.reshape(96, 144, -1)\n",
    "space = np.zeros((96, 20, 26))\n",
    "\n",
    "array_to_vtk(np.concatenate((non_y, space, non_y_pred), axis=1), f'/home/mkim/Nserver/climate_processes/paraview/data/SFANP_y&pred_{day}D_{hour}H')"
   ]
  }
 ],
 "metadata": {
  "kernelspec": {
   "display_name": "torch",
   "language": "python",
   "name": "python3"
  },
  "language_info": {
   "codemirror_mode": {
    "name": "ipython",
    "version": 3
   },
   "file_extension": ".py",
   "mimetype": "text/x-python",
   "name": "python",
   "nbconvert_exporter": "python",
   "pygments_lexer": "ipython3",
   "version": "3.10.8"
  },
  "orig_nbformat": 4,
  "vscode": {
   "interpreter": {
    "hash": "a5529f52d43dbfc9fee230ba5e7607dce6de3247df14ba2bd24aec3ce54489fd"
   }
  }
 },
 "nbformat": 4,
 "nbformat_minor": 2
}
