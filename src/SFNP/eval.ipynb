{
 "cells": [
  {
   "cell_type": "markdown",
   "metadata": {},
   "source": [
    "# Get metrics and Plot"
   ]
  },
  {
   "cell_type": "code",
   "execution_count": 3,
   "metadata": {},
   "outputs": [],
   "source": [
    "import matplotlib.pyplot as plt\n",
    "from lib.eval import *\n",
    "from sklearn.metrics import r2_score"
   ]
  },
  {
   "cell_type": "code",
   "execution_count": 8,
   "metadata": {},
   "outputs": [
    {
     "data": {
      "text/plain": [
       "{'images': [],\n",
       " 'audio': [],\n",
       " 'histograms': [],\n",
       " 'scalars': ['mse', 'mae', 'non_mae', 'norm_rmse'],\n",
       " 'distributions': [],\n",
       " 'tensors': [],\n",
       " 'graph': False,\n",
       " 'meta_graph': False,\n",
       " 'run_metadata': []}"
      ]
     },
     "execution_count": 8,
     "metadata": {},
     "output_type": "execute_result"
    }
   ],
   "source": [
    "from tensorboard.backend.event_processing.event_accumulator import EventAccumulator\n",
    "\n",
    "event_file = \"/home/mkim/Nserver/climate_processes/src/SF_Attn/logs/sfattn_train_seed0_lr0.000139_bs_1_Tue Feb 28 13:35:52 2023/runs/valid/events.out.tfevents.1677620154.kserver-2.1255506.1\"\n",
    "event_acc = EventAccumulator(event_file)\n",
    "event_acc.Reload() \n",
    "event_acc.Tags()\n",
    "\n",
    "values = [ s.value for s in event_acc.Scalars(\"non_mae\")]\n",
    "plt.plot(values)\n"
   ]
  },
  {
   "cell_type": "code",
   "execution_count": 4,
   "metadata": {},
   "outputs": [],
   "source": [
    "SFNP_path = \"logs/SFNP_train_seed0_lr0.000168_bs_1_Tue Feb 28 01:09:51 2023\"\n",
    "device = torch.device(\"cuda\" if torch.cuda.is_available() else \"cpu\")"
   ]
  },
  {
   "cell_type": "code",
   "execution_count": 500,
   "metadata": {},
   "outputs": [
    {
     "name": "stderr",
     "output_type": "stream",
     "text": [
      "100%|██████████| 362/362 [05:25<00:00,  1.11it/s]\n",
      "100%|██████████| 362/362 [04:15<00:00,  1.42it/s]\n"
     ]
    }
   ],
   "source": [
    "evaluator = Evaluator(\"logs/SFNP_train_seed0_lr0.000168_bs_1_Tue Feb 28 01:09:51 2023\")\n",
    "non_mae, nmae, r = evaluator.get_metrics(evaluator.testloader)"
   ]
  },
  {
   "cell_type": "code",
   "execution_count": 463,
   "metadata": {},
   "outputs": [],
   "source": [
    "# non_mae, nmae, r = evaluator.get_metrics(evaluator.testloader)\n",
    "non_mae = np.load(\"../../notebooks/metrics/sfnp_test_non_mae.npy\")\n",
    "nmae = np.load(\"../../notebooks/metrics/sfnp_test_nmae.npy\")\n",
    "r = np.load(\"../../notebooks/metrics/sfnp_test_r.npy\")"
   ]
  },
  {
   "cell_type": "code",
   "execution_count": 464,
   "metadata": {},
   "outputs": [
    {
     "data": {
      "image/png": "[encoded data removed]",
      "text/plain": [
       "<Figure size 1080x360 with 3 Axes>"
      ]
     },
     "metadata": {
      "needs_background": "light"
     },
     "output_type": "display_data"
    }
   ],
   "source": [
    "fig, axs = plt.subplots(1, 3, figsize=(15, 5))\n",
    "axs[0].bar(np.arange(26), non_mae)\n",
    "axs[0].set_title(\"Non-Mean Absolute Error\")\n",
    "axs[1].bar(np.arange(26), nmae)\n",
    "axs[1].set_title(\"Normalized Mean Absolute Error\")\n",
    "axs[2].bar(np.arange(26), r)\n",
    "axs[2].set_title(\"Correlation Coefficient\")\n",
    "plt.savefig(\"../../notebooks/plots/sfnp_test_metrics.jpg\")\n",
    "plt.show()"
   ]
  },
  {
   "cell_type": "code",
   "execution_count": 468,
   "metadata": {},
   "outputs": [],
   "source": [
    "non_y, non_y_context, non_y_pred, context_idxs, target_idxs = evaluator.plot_scenario(0, split=\"train\")"
   ]
  },
  {
   "cell_type": "code",
   "execution_count": 5,
   "metadata": {},
   "outputs": [
    {
     "ename": "NameError",
     "evalue": "name 'non_y_pred' is not defined",
     "output_type": "error",
     "traceback": [
      "\u001b[0;31m---------------------------------------------------------------------------\u001b[0m",
      "\u001b[0;31mNameError\u001b[0m                                 Traceback (most recent call last)",
      "\u001b[1;32m/home/mkim/Nserver/climate_processes/src/SFNP/eval.ipynb Cell 9\u001b[0m in \u001b[0;36m<cell line: 1>\u001b[0;34m()\u001b[0m\n\u001b[0;32m----> <a href='vscode-notebook-cell:/home/mkim/Nserver/climate_processes/src/SFNP/eval.ipynb#X46sZmlsZQ%3D%3D?line=0'>1</a>\u001b[0m non_mae \u001b[39m=\u001b[39m mae_metric(non_y_pred, non_y[target_idxs], mean\u001b[39m=\u001b[39m\u001b[39mTrue\u001b[39;00m)\n\u001b[1;32m      <a href='vscode-notebook-cell:/home/mkim/Nserver/climate_processes/src/SFNP/eval.ipynb#X46sZmlsZQ%3D%3D?line=1'>2</a>\u001b[0m R_scores \u001b[39m=\u001b[39m []\n\u001b[1;32m      <a href='vscode-notebook-cell:/home/mkim/Nserver/climate_processes/src/SFNP/eval.ipynb#X46sZmlsZQ%3D%3D?line=2'>3</a>\u001b[0m \u001b[39mvars\u001b[39m \u001b[39m=\u001b[39m np\u001b[39m.\u001b[39marange(\u001b[39m26\u001b[39m)\n",
      "\u001b[0;31mNameError\u001b[0m: name 'non_y_pred' is not defined"
     ]
    }
   ],
   "source": [
    "non_mae = mae_metric(non_y_pred, non_y[target_idxs], mean=True)\n",
    "R_scores = []\n",
    "vars = np.arange(26)\n",
    "for i in vars:\n",
    "    R_scores.append(r2_score(non_y[target_idxs][:, i], non_y_pred[:, i]))\n",
    "norm_mae = non_mae / non_y[target_idxs].mean(0)\n",
    "\n",
    "fig, axs = plt.subplots(1, 3, figsize=(15, 5))\n",
    "axs[0].bar(vars, R_scores)\n",
    "axs[0].set_title(\"R Scores\")\n",
    "axs[1].bar(vars, non_mae)\n",
    "axs[1].set_title(\"MAE Scores\")\n",
    "axs[2].bar(vars, norm_mae)\n",
    "axs[2].set_title(\"Norm-MAE Scores\")\n",
    "plt.suptitle(\"For each  26 variables\")\n",
    "plt.savefig(\"../../notebooks/plots/sfnp_test_metrics_single.jpg\")\n",
    "plt.show()\n",
    "\n",
    "\n",
    "\n",
    "fig, axs= plt.subplots(1, 2, figsize=(15, 5))\n",
    "axs[0].plot(non_y[target_idxs])\n",
    "axs[0].set_title(\"Ground Truth\")\n",
    "axs[1].plot(non_y_pred)\n",
    "axs[1].set_title(\"Predicted\")\n",
    "plt.suptitle(\"Histogram of 26 variables\")\n",
    "plt.savefig(\"../../notebooks/plots/sfnp_test_hist_single.jpg\")\n",
    "plt.show()\n",
    "\n",
    "\n",
    "\n",
    "contexts = np.zeros_like(non_y)\n",
    "contexts[context_idxs] = non_y_context\n",
    "\n",
    "results = np.zeros_like(non_y)\n",
    "results[target_idxs] = non_y_pred\n",
    "# results[context_idxs] = non_y_context\n",
    "\n",
    "\n",
    "fig, axs = plt.subplots(1, 3, figsize=(15, 5))\n",
    "axs[0].imshow(contexts.reshape(96, 144, -1)[:, :, 0])\n",
    "axs[0].set_title(\"Context Y\")\n",
    "axs[1].imshow(non_y.reshape(96, 144, -1)[:, :, 0])\n",
    "axs[1].set_title(\"Truth Y\")\n",
    "axs[2].imshow(results.reshape(96, 144, -1)[:, :, 0])\n",
    "axs[2].set_title(\"Predicted Y\")\n",
    "plt.suptitle(f\"NORM-MAE: {norm_mae.mean():.4f}\")\n",
    "plt.savefig(\"../../notebooks/plots/sfnp_test_viz_single.jpg\")\n",
    "plt.show()"
   ]
  },
  {
   "cell_type": "code",
   "execution_count": null,
   "metadata": {},
   "outputs": [],
   "source": []
  }
 ],
 "metadata": {
  "kernelspec": {
   "display_name": "torch",
   "language": "python",
   "name": "python3"
  },
  "language_info": {
   "codemirror_mode": {
    "name": "ipython",
    "version": 3
   },
   "file_extension": ".py",
   "mimetype": "text/x-python",
   "name": "python",
   "nbconvert_exporter": "python",
   "pygments_lexer": "ipython3",
   "version": "3.10.4"
  },
  "orig_nbformat": 4,
  "vscode": {
   "interpreter": {
    "hash": "a5529f52d43dbfc9fee230ba5e7607dce6de3247df14ba2bd24aec3ce54489fd"
   }
  }
 },
 "nbformat": 4,
 "nbformat_minor": 2
}
