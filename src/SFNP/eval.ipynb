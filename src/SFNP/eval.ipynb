{
 "cells": [
  {
   "cell_type": "markdown",
   "metadata": {},
   "source": [
    "# Get metrics and Plot"
   ]
  },
  {
   "cell_type": "code",
   "execution_count": null,
   "metadata": {},
   "outputs": [],
   "source": [
    "import matplotlib.pyplot as plt\n",
    "from train import *"
   ]
  },
  {
   "cell_type": "code",
   "execution_count": 17,
   "metadata": {},
   "outputs": [],
   "source": [
    "SFNP_path = \"logs/SFNP_train_seed0_lr0.000168_bs_1_Tue Feb 28 01:09:51 2023\""
   ]
  },
  {
   "cell_type": "code",
   "execution_count": 46,
   "metadata": {},
   "outputs": [],
   "source": [
    "class Evaluator():\n",
    "    def __init__(self, dirpath, Model):\n",
    "        self.dirpath = dirpath\n",
    "        self.config = yaml.safe_load(open(f\"{dirpath}/saved_config.yaml\"))\n",
    "        self.init_dataloader()\n",
    "        self.Model = Model\n",
    "        self.init_model()\n",
    "\n",
    "    def init_model(self):\n",
    "        self.device = torch.device('cuda')\n",
    "        model_dict = torch.load(f\"{self.dirpath}/best.pt\", map_location=torch.device('cuda'))\n",
    "        model = self.Model(model_dict['config']['model']).to(self.device)\n",
    "\n",
    "        model.load_state_dict(model_dict['model'])\n",
    "        model.eval()\n",
    "        self.model = model\n",
    "\n",
    "    def init_dataloader(self):\n",
    "        l2_x_data = sorted(glob.glob(f\"{self.config['data_dir']}/SPCAM5/inputs_*\"), key=sort_fn)\n",
    "        l2_y_data = sorted(glob.glob(f\"{self.config['data_dir']}/SPCAM5/outputs_*\"), key=sort_fn)\n",
    "        l1_x_data = sorted(glob.glob(f\"{self.config['data_dir']}/CAM5/inputs_*\"), key=sort_fn)\n",
    "        l1_y_data = sorted(glob.glob(f\"{self.config['data_dir']}/CAM5/outputs_*\"), key=sort_fn)\n",
    "\n",
    "        n = int(365*0.8)\n",
    "        self.l2_x_train = l2_x_data[:n]\n",
    "        self.l2_y_train = l2_y_data[:n]\n",
    "        self.l2_x_valid = l2_x_data[n:365]\n",
    "        self.l2_y_valid = l2_y_data[n:365]\n",
    "        self.l2_x_test = l2_x_data[365:]\n",
    "        self.l2_y_test = l2_y_data[365:]\n",
    "        self.l1_x_train = l1_x_data[:n]\n",
    "        self.l1_y_train = l1_y_data[:n]\n",
    "        self.l1_x_valid = l1_x_data[n:365]\n",
    "        self.l1_y_valid = l1_y_data[n:365]\n",
    "        self.l1_x_test = l1_x_data[365:]\n",
    "        self.l1_y_test = l1_y_data[365:]\n",
    "        l1_x_scaler_minmax = dill.load(open(f\"../../scalers/x_CAM5_minmax_scaler.dill\", 'rb'))\n",
    "        l1_y_scaler_minmax = dill.load(open(f\"../../scalers/y_CAM5_minmax_scaler.dill\", 'rb'))\n",
    "\n",
    "        l2_x_scaler_minmax = dill.load(open(f\"../../scalers/x_SPCAM5_minmax_scaler.dill\", 'rb'))\n",
    "        l2_y_scaler_minmax = dill.load(open(f\"../../scalers/y_SPCAM5_minmax_scaler.dill\", 'rb'))\n",
    "\n",
    "        # Change to first 26 variables\n",
    "        l2_y_scaler_minmax.min = l2_y_scaler_minmax.min[:26]\n",
    "        l2_y_scaler_minmax.max = l2_y_scaler_minmax.max[:26]\n",
    "        l1_y_scaler_minmax.min = l1_y_scaler_minmax.min[:26]\n",
    "        l1_y_scaler_minmax.max = l1_y_scaler_minmax.max[:26]\n",
    "\n",
    "        if self.model_type != \"multi\":\n",
    "            trainset = l2Dataset(self.l2_x_train, self.l2_y_train, x_scaler=l2_x_scaler_minmax, y_scaler=l2_y_scaler_minmax, variables=26)\n",
    "            self.trainloader = DataLoader(trainset, batch_size=self.config['batch_size'], shuffle=True, drop_last=False, \\\n",
    "                                            num_workers=4, pin_memory=True)\n",
    "            validset = l2Dataset(self.l2_x_valid, self.l2_y_valid, x_scaler=l2_x_scaler_minmax, y_scaler=l2_y_scaler_minmax, variables=26)\n",
    "            self.validloader = DataLoader(validset, batch_size=self.config['batch_size'], shuffle=False, drop_last=False, \\\n",
    "                                            num_workers=4, pin_memory=True)\n",
    "            testset = l2Dataset(self.l2_x_test, self.l2_y_test, x_scaler=l2_x_scaler_minmax, y_scaler=l2_y_scaler_minmax, variables=26)\n",
    "            self.testloader = DataLoader(testset, batch_size=self.config['batch_size'], shuffle=False, drop_last=False, \\\n",
    "                                        num_workers=4, pin_memory=True)\n",
    "        else:\n",
    "            trainset = MutliDataset(self.l1_x_train, self.l1_y_train, self.l2_x_train, self.l2_y_train,\n",
    "                                            l1_x_scaler=l1_x_scaler_minmax, l1_y_scaler=l1_y_scaler_minmax,\n",
    "                                            l2_x_scaler=l2_x_scaler_minmax, l2_y_scaler=l2_y_scaler_minmax, nested=self.config['nested'], variables=[26, 26])\n",
    "            self.trainloader = DataLoader(trainset, self.config['batch_size'], shuffle=True, drop_last=False, num_workers=0, pin_memory=True)\n",
    "\n",
    "            validset = MutliDataset(self.l1_x_valid, self.l1_y_valid, self.l2_x_valid, self.l2_y_valid,\n",
    "                                    l1_x_scaler=l1_x_scaler_minmax, l1_y_scaler=l1_y_scaler_minmax,\n",
    "                                    l2_x_scaler=l2_x_scaler_minmax, l2_y_scaler=l2_y_scaler_minmax, nested=self.config['nested'], variables=[26, 26])\n",
    "            self.validloader = DataLoader(validset, self.config['batch_size'], shuffle=False, drop_last=False, num_workers=0, pin_memory=True)\n",
    "            testset = MutliDataset(self.l1_x_test, self.l1_y_test, self.l2_x_test, self.l2_y_test, l1_x_scaler=l1_x_scaler_minmax, l1_y_scaler=l1_y_scaler_minmax, nested=self.config['nested'], variables=[26, 26])\n",
    "            self.testloader = DataLoader(testset, self.config['batch_size'], shuffle=False, drop_last=False, num_workers=0, pin_memory=True)\n",
    "\n",
    "        self.l2_y_scaler_minmax = l2_y_scaler_minmax\n",
    "\n",
    "    def get_metrics(self, loader):\n",
    "        self.get_R_stats(loader)\n",
    "        self.r = self.ssxym / np.sqrt(self.ssxm * self.ssym)\n",
    "        return self.non_mae, self.nmae, self.r\n",
    "\n",
    "    def forward_pass(self, data):\n",
    "        with torch.no_grad():\n",
    "            if self.model_type == \"multi\":\n",
    "                l1_x, l1_y, l2_x, l2_y = data\n",
    "                l1_x = l1_x.reshape(-1, 1, l1_x.shape[-1]).to(device)\n",
    "                l1_y = l1_y.reshape(-1, 1, l1_y.shape[-1]).to(device)\n",
    "            else:\n",
    "                l2_x, l2_y = data\n",
    "                l2_x, l2_y = l2_x.to(device), l2_y.to(device)\n",
    "\n",
    "            if self.model_type != \"attentive\":\n",
    "                l2_x = l2_x.reshape(-1, 1, l2_x.shape[-1]).to(device)\n",
    "                l2_y = l2_y.reshape(-1, 1, l2_y.shape[-1]).to(device)\n",
    "\n",
    "            if self.model_type == \"forward\":\n",
    "                l2_output_mu = self.model(l2_x)\n",
    "                l2_truth = l2_y\n",
    "            elif self.model_type == \"multi\":\n",
    "                l1_output_mu, l1_output_cov, l2_output_mu, l2_output_cov, l1_y_truth,\\\n",
    "                    l2_truth, l1_z_mu_all, l1_z_cov_all, l1_z_mu_c, l1_z_cov_c, \\\n",
    "                    l2_z_mu_all, l2_z_cov_all, l2_z_mu_c, l2_z_cov_c = self.model(l1_x, l1_y, l2_x, l2_y)\n",
    "            elif self.model_type == \"attentive\":\n",
    "                mask, others = split_context_target(l2_x, l2_y, self.config['model']['context_percentage_low'], \n",
    "                                                                                self.config['model']['context_percentage_high'])\n",
    "                context_x, context_y, target_x, l2_truth = l2_x[:, mask], l2_y[:, mask], l2_x[:, others], l2_y[:, others]\n",
    "                l2_output_mu, l2_output_cov = self.model(context_x, context_y, target_x)\n",
    "                self.mask = mask\n",
    "            else:\n",
    "                l2_output_mu, l2_output_cov, l2_truth, l2_z_mu_all, \\\n",
    "                        l2_z_cov_all, l2_z_mu_c, l2_z_cov_c = self.model(l2_x, l2_y)\n",
    "            \n",
    "            non_y_pred = self.l2_y_scaler_minmax.inverse_transform(l2_output_mu.squeeze().cpu().numpy())\n",
    "            non_y = self.l2_y_scaler_minmax.inverse_transform(l2_truth.squeeze().cpu().numpy())\n",
    "            return non_y, non_y_pred\n",
    "\n",
    "    def get_R_stats(self, loader):\n",
    "        self._get_stats(loader)\n",
    "        self.ssxm = 0\n",
    "        self.ssxym = 0\n",
    "        self.ssym = 0\n",
    "\n",
    "        with torch.no_grad():\n",
    "            for i, data in enumerate(tqdm(loader, total=len(loader))):\n",
    "                if self.model_type == \"attentive\":\n",
    "                    n_mb = 9\n",
    "                    data = [d[:, ::int(n_mb)] for d in data]\n",
    "\n",
    "                    for b in range(n_mb): # Split into batches due to GPU limit\n",
    "                        non_y, non_y_pred = self.forward_pass([d[:, b::n_mb] for d in data])\n",
    "\n",
    "                        self.ssxm += ((non_y - self.y_mean)**2).sum(0)\n",
    "                        self.ssym += ((non_y_pred - self.y_pred_mean)**2).sum(0)\n",
    "                        self.ssxym += ((non_y - self.y_mean) * (non_y_pred - self.y_pred_mean)).sum(0)\n",
    "                else:\n",
    "                    non_y, non_y_pred = self.forward_pass(data)\n",
    "                self.ssxm += ((non_y - self.y_mean)**2).sum(0)\n",
    "                self.ssym += ((non_y_pred - self.y_pred_mean)**2).sum(0)\n",
    "                self.ssxym += ((non_y - self.y_mean) * (non_y_pred - self.y_pred_mean)).sum(0)\n",
    "            # Get average\n",
    "            self.ssxm /= self.n_total\n",
    "            self.ssym /= self.n_total\n",
    "            self.ssxym /= self.n_total\n",
    "\n",
    "    def _get_stats(self, loader):\n",
    "        self.n_total = 0\n",
    "        self.x_total = 0\n",
    "        self.y_total = 0\n",
    "        self.xy_total = 0\n",
    "        self.x2_total = 0\n",
    "        self.y2_total = 0\n",
    "        self.y_mean = 0\n",
    "        self.y_pred_mean = 0\n",
    "        self.nmae = 0\n",
    "        self.non_mae = 0\n",
    "\n",
    "        with torch.no_grad():\n",
    "            for i, data in enumerate(tqdm(loader, total=len(loader))):\n",
    "                if self.model_type == \"attentive\":\n",
    "                    n_mb = 9\n",
    "                    data = [d[:, ::int(n_mb)] for d in data]\n",
    "                    for b in range(n_mb): # Split into batches due to GPU limit\n",
    "                        non_y, non_y_pred = self.forward_pass([d[:, b::n_mb] for d in data])\n",
    "                        non_mae = mae_metric(non_y_pred, non_y, mean=False)\n",
    "\n",
    "                        self.y_mean += non_y.sum(axis=0)\n",
    "                        self.y_pred_mean += non_y_pred.sum(axis=0)\n",
    "                        self.non_mae += non_mae.sum(axis=0)\n",
    "                        self.n_total += non_y.shape[0]\n",
    "                        self.x_total += non_y.sum(axis=0)\n",
    "                        self.y_total += non_y_pred.sum(axis=0)\n",
    "                        self.x2_total += (non_y ** 2).sum(axis=0)\n",
    "                        self.y2_total += (non_y_pred ** 2).sum(axis=0)\n",
    "                        self.xy_total += (non_y_pred * non_y).sum(axis=0)\n",
    "                else:\n",
    "                    non_y, non_y_pred = self.forward_pass(data)\n",
    "\n",
    "                    non_mae = mae_metric(non_y_pred, non_y, mean=False)\n",
    "\n",
    "                    self.y_mean += non_y.sum(axis=0)\n",
    "                    self.y_pred_mean += non_y_pred.sum(axis=0)\n",
    "                    self.non_mae += non_mae.sum(axis=0)\n",
    "                    self.n_total += non_y.shape[0]\n",
    "                    self.x_total += non_y.sum(axis=0)\n",
    "                    self.y_total += non_y_pred.sum(axis=0)\n",
    "                    self.x2_total += (non_y ** 2).sum(axis=0)\n",
    "                    self.y2_total += (non_y_pred ** 2).sum(axis=0)\n",
    "                    self.xy_total += (non_y_pred * non_y).sum(axis=0)\n",
    "\n",
    "        self.y_mean /= self.n_total\n",
    "        self.y_pred_mean /= self.n_total\n",
    "        self.nmae /= self.n_total\n",
    "        self.non_mae /= self.n_total\n",
    "        self.nmae = np.abs(np.sqrt(self.non_mae / self.n_total) / np.abs(self.y_mean))\n",
    "\n",
    "\n",
    "    def plot_scenario(self):\n",
    "        for i, data in enumerate(tqdm(self.testloader, total=len(self.testloader))):\n",
    "            if self.model_type != \"attentive\":\n",
    "                x, y = data\n",
    "                non_y, non_y_pred = self.forward_pass(data)\n",
    "                print(x.shape, y.shape)\n",
    "                print(non_y.shape, non_y_pred.shape)\n",
    "\n",
    "            break\n",
    "        return self.losses\n"
   ]
  },
  {
   "cell_type": "code",
   "execution_count": 57,
   "metadata": {},
   "outputs": [
    {
     "name": "stdout",
     "output_type": "stream",
     "text": [
      "model init\n"
     ]
    },
    {
     "ename": "FileNotFoundError",
     "evalue": "[Errno 2] No such file or directory: 'logs/transformer_tune_seed0_lr7.7e-05_bs_1_Tue Feb 28 09:39:20 2023/saved_config.yaml'",
     "output_type": "error",
     "traceback": [
      "\u001b[0;31m---------------------------------------------------------------------------\u001b[0m",
      "\u001b[0;31mFileNotFoundError\u001b[0m                         Traceback (most recent call last)",
      "\u001b[1;32m/home/mkim/Nserver/climate_processes/src/SFNP/eval.ipynb Cell 4\u001b[0m in \u001b[0;36m<cell line: 2>\u001b[0;34m()\u001b[0m\n\u001b[1;32m      <a href='vscode-notebook-cell:/home/mkim/Nserver/climate_processes/src/SFNP/eval.ipynb#X41sZmlsZQ%3D%3D?line=0'>1</a>\u001b[0m evaluator_sfnp \u001b[39m=\u001b[39m Evaluator(\u001b[39m\"\u001b[39m\u001b[39mlogs/SFNP_train_seed0_lr0.000168_bs_1_Tue Feb 28 01:09:51 2023\u001b[39m\u001b[39m\"\u001b[39m)\n\u001b[0;32m----> <a href='vscode-notebook-cell:/home/mkim/Nserver/climate_processes/src/SFNP/eval.ipynb#X41sZmlsZQ%3D%3D?line=1'>2</a>\u001b[0m evaluator_transformer \u001b[39m=\u001b[39m Evaluator(\u001b[39m\"\u001b[39;49m\u001b[39mlogs/transformer_tune_seed0_lr7.7e-05_bs_1_Tue Feb 28 09:39:20 2023\u001b[39;49m\u001b[39m\"\u001b[39;49m)\n",
      "\u001b[1;32m/home/mkim/Nserver/climate_processes/src/SFNP/eval.ipynb Cell 4\u001b[0m in \u001b[0;36mEvaluator.__init__\u001b[0;34m(self, dirpath)\u001b[0m\n\u001b[1;32m      <a href='vscode-notebook-cell:/home/mkim/Nserver/climate_processes/src/SFNP/eval.ipynb#X41sZmlsZQ%3D%3D?line=1'>2</a>\u001b[0m \u001b[39mdef\u001b[39;00m \u001b[39m__init__\u001b[39m(\u001b[39mself\u001b[39m, dirpath):\n\u001b[1;32m      <a href='vscode-notebook-cell:/home/mkim/Nserver/climate_processes/src/SFNP/eval.ipynb#X41sZmlsZQ%3D%3D?line=2'>3</a>\u001b[0m     \u001b[39mself\u001b[39m\u001b[39m.\u001b[39mdirpath \u001b[39m=\u001b[39m dirpath\n\u001b[0;32m----> <a href='vscode-notebook-cell:/home/mkim/Nserver/climate_processes/src/SFNP/eval.ipynb#X41sZmlsZQ%3D%3D?line=3'>4</a>\u001b[0m     \u001b[39mself\u001b[39m\u001b[39m.\u001b[39mconfig \u001b[39m=\u001b[39m yaml\u001b[39m.\u001b[39msafe_load(\u001b[39mopen\u001b[39;49m(\u001b[39mf\u001b[39;49m\u001b[39m\"\u001b[39;49m\u001b[39m{\u001b[39;49;00mdirpath\u001b[39m}\u001b[39;49;00m\u001b[39m/saved_config.yaml\u001b[39;49m\u001b[39m\"\u001b[39;49m))\n\u001b[1;32m      <a href='vscode-notebook-cell:/home/mkim/Nserver/climate_processes/src/SFNP/eval.ipynb#X41sZmlsZQ%3D%3D?line=4'>5</a>\u001b[0m     \u001b[39mself\u001b[39m\u001b[39m.\u001b[39minit_dataloader()\n\u001b[1;32m      <a href='vscode-notebook-cell:/home/mkim/Nserver/climate_processes/src/SFNP/eval.ipynb#X41sZmlsZQ%3D%3D?line=5'>6</a>\u001b[0m     \u001b[39mself\u001b[39m\u001b[39m.\u001b[39minit_model()\n",
      "\u001b[0;31mFileNotFoundError\u001b[0m: [Errno 2] No such file or directory: 'logs/transformer_tune_seed0_lr7.7e-05_bs_1_Tue Feb 28 09:39:20 2023/saved_config.yaml'"
     ]
    }
   ],
   "source": [
    "evaluator_sfnp = Evaluator(\"logs/SFNP_train_seed0_lr0.000168_bs_1_Tue Feb 28 01:09:51 2023\")\n",
    "evaluator_transformer = Evaluator(\"logs/transformer_tune_seed0_lr7.7e-05_bs_1_Tue Feb 28 09:39:20 2023\")"
   ]
  },
  {
   "cell_type": "code",
   "execution_count": 48,
   "metadata": {},
   "outputs": [
    {
     "name": "stderr",
     "output_type": "stream",
     "text": [
      "100%|██████████| 362/362 [01:31<00:00,  3.98it/s]\n",
      "100%|██████████| 362/362 [01:28<00:00,  4.07it/s]\n"
     ]
    }
   ],
   "source": [
    "R = evaluator_sfnp.get_metrics(evaluator_sfnp.testloader)"
   ]
  },
  {
   "cell_type": "code",
   "execution_count": 56,
   "metadata": {},
   "outputs": [
    {
     "data": {
      "text/plain": [
       "[<matplotlib.lines.Line2D at 0x7f052ed5c9a0>]"
      ]
     },
     "execution_count": 56,
     "metadata": {},
     "output_type": "execute_result"
    },
    {
     "data": {
      "image/png": "[encoded data removed]",
      "text/plain": [
       "<Figure size 432x288 with 1 Axes>"
      ]
     },
     "metadata": {
      "needs_background": "light"
     },
     "output_type": "display_data"
    }
   ],
   "source": [
    "plt.plot(np.arange(26), evaluator.non_mae, label=\"MAE\")"
   ]
  },
  {
   "cell_type": "code",
   "execution_count": 55,
   "metadata": {},
   "outputs": [
    {
     "data": {
      "text/plain": [
       "[<matplotlib.lines.Line2D at 0x7f052eec93f0>]"
      ]
     },
     "execution_count": 55,
     "metadata": {},
     "output_type": "execute_result"
    },
    {
     "data": {
      "image/png": "[encoded data removed]",
      "text/plain": [
       "<Figure size 432x288 with 1 Axes>"
      ]
     },
     "metadata": {
      "needs_background": "light"
     },
     "output_type": "display_data"
    }
   ],
   "source": [
    "plt.plot(np.arange(26), evaluator.nmae, label=\"NMAE\")\n",
    "plt.plot(np.arange(26), R, label=\"R\")"
   ]
  },
  {
   "cell_type": "code",
   "execution_count": null,
   "metadata": {},
   "outputs": [],
   "source": []
  }
 ],
 "metadata": {
  "kernelspec": {
   "display_name": "torch",
   "language": "python",
   "name": "python3"
  },
  "language_info": {
   "codemirror_mode": {
    "name": "ipython",
    "version": 3
   },
   "file_extension": ".py",
   "mimetype": "text/x-python",
   "name": "python",
   "nbconvert_exporter": "python",
   "pygments_lexer": "ipython3",
   "version": "3.10.4"
  },
  "orig_nbformat": 4,
  "vscode": {
   "interpreter": {
    "hash": "a5529f52d43dbfc9fee230ba5e7607dce6de3247df14ba2bd24aec3ce54489fd"
   }
  }
 },
 "nbformat": 4,
 "nbformat_minor": 2
}
