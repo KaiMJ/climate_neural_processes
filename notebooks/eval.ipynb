{
 "cells": [
  {
   "cell_type": "code",
   "execution_count": 4,
   "metadata": {},
   "outputs": [],
   "source": [
    "import numpy as np\n",
    "import matplotlib.pyplot as plt\n",
    "import glob,sys, dill\n",
    "\n",
    "sys.path.append('../src')\n",
    "from lib.utils import sort_fn"
   ]
  },
  {
   "cell_type": "code",
   "execution_count": 20,
   "metadata": {},
   "outputs": [],
   "source": [
    "l2_x_data = sorted(\n",
    "    glob.glob(f\"../data/SPCAM5/inputs_*\"), key=sort_fn)\n",
    "l2_y_data = sorted(\n",
    "    glob.glob(f\"../data/SPCAM5/outputs_*\"), key=sort_fn)\n",
    "l1_x_data = sorted(\n",
    "    glob.glob(f\"../data/CAM5/inputs_*\"), key=sort_fn)\n",
    "l1_y_data = sorted(\n",
    "    glob.glob(f\"../data/CAM5/outputs_*\"), key=sort_fn)\n",
    "\n",
    "split_n = int(365*0.8)\n",
    "l2_x_train = l2_x_data[:split_n]\n",
    "l2_y_train = l2_y_data[:split_n]\n",
    "l2_x_valid = l2_x_data[split_n:]\n",
    "l2_y_valid = l2_y_data[split_n:]\n",
    "l1_x_train = l1_x_data[:split_n]\n",
    "l1_y_train = l1_y_data[:split_n]\n",
    "l1_x_valid = l1_x_data[split_n:]\n",
    "l1_y_valid = l1_y_data[split_n:]\n",
    "\n",
    "l2_x_scaler_minmax = dill.load(\n",
    "    open(f\"../scalers/x_SPCAM5_minmax_scaler.dill\", 'rb'))\n",
    "l2_y_scaler_minmax = dill.load(\n",
    "    open(f\"../scalers/y_SPCAM5_minmax_scaler.dill\", 'rb'))\n",
    "l1_x_scaler_minmax = dill.load(\n",
    "    open(f\"../scalers/x_CAM5_minmax_scaler.dill\", 'rb'))\n",
    "l1_y_scaler_minmax = dill.load(\n",
    "    open(f\"../scalers/y_CAM5_minmax_scaler.dill\", 'rb'))\n",
    "\n",
    "# Change to first 26 variables\n",
    "l2_y_scaler_minmax.min = l2_y_scaler_minmax.min[:26]\n",
    "l2_y_scaler_minmax.max = l2_y_scaler_minmax.max[:26]\n",
    "l1_y_scaler_minmax.min = l1_y_scaler_minmax.min[:26]\n",
    "l1_y_scaler_minmax.max = l1_y_scaler_minmax.max[:26]\n"
   ]
  },
  {
   "cell_type": "code",
   "execution_count": 26,
   "metadata": {},
   "outputs": [
    {
     "name": "stdout",
     "output_type": "stream",
     "text": [
      "../data/CAM5/inputs_2005-03-28.npy\r"
     ]
    }
   ],
   "source": [
    "for l1_x_, l1_y_, l2_x_, l2_y_ in zip(l1_x_data, l1_x_data, l2_x_data, l2_y_data):\n",
    "    l1_x = np.load(l1_x_)\n",
    "    l1_y = np.load(l1_y_)\n",
    "    l2_x = np.load(l2_x_)\n",
    "    l2_y = np.load(l2_y_)\n",
    "    if l1_x.max() > 1e7:\n",
    "        print('here', l1_x)\n",
    "    \n",
    "    l1_x_t = l1_x_scaler_minmax.inverse_transform(l1_x)\n",
    "    l1_y_t = l1_y_scaler_minmax.inverse_transform(l1_y)\n",
    "    l2_x_t = l2_x_scaler_minmax.inverse_transform(l2_x)\n",
    "    l2_y_t = l2_y_scaler_minmax.inverse_transform(l2_y)\n",
    "\n",
    "    print(l1_x_, end='\\r')\n",
    "    if l1_x_t.max() > 1e7 or l2_x_t.max() > 1e7:\n",
    "        print('here 2', l1_x)\n",
    "        print(l1_x.min(), l1_x.max(), l1_x_scaler_minmax.min.min(), l1_x_scaler_minmax.max.max())\n",
    "    # break"
   ]
  },
  {
   "cell_type": "code",
   "execution_count": null,
   "metadata": {},
   "outputs": [],
   "source": []
  }
 ],
 "metadata": {
  "kernelspec": {
   "display_name": "torch",
   "language": "python",
   "name": "python3"
  },
  "language_info": {
   "codemirror_mode": {
    "name": "ipython",
    "version": 3
   },
   "file_extension": ".py",
   "mimetype": "text/x-python",
   "name": "python",
   "nbconvert_exporter": "python",
   "pygments_lexer": "ipython3",
   "version": "3.10.4"
  },
  "orig_nbformat": 4,
  "vscode": {
   "interpreter": {
    "hash": "a5529f52d43dbfc9fee230ba5e7607dce6de3247df14ba2bd24aec3ce54489fd"
   }
  }
 },
 "nbformat": 4,
 "nbformat_minor": 2
}
