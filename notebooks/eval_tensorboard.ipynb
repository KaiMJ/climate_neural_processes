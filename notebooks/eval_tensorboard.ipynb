{
 "cells": [
  {
   "cell_type": "code",
   "execution_count": 1,
   "metadata": {},
   "outputs": [],
   "source": [
    "import matplotlib.pyplot as plt\n",
    "import sys, os\n",
    "sys.path.append('../src/')\n",
    "from SFNP.train import *\n",
    "from SFNP.model import Model as SFNP_Model\n",
    "from transformer.model import Model as Transformer_Model\n",
    "import os\n",
    "\n",
    "cwd = os.getcwd()"
   ]
  },
  {
   "cell_type": "code",
   "execution_count": 17,
   "metadata": {},
   "outputs": [
    {
     "name": "stdout",
     "output_type": "stream",
     "text": [
      "wall_time: 1677548669.1426396\n",
      "file_version: \"brain.Event:2\"\n",
      "\n"
     ]
    }
   ],
   "source": [
    "from tensorboard.backend.event_processing.event_file_loader import EventFileLoader\n",
    "\n",
    "for event in EventFileLoader(\"/home/mkim/Nserver/climate_processes/src/SFNP/logs/SFNP_tuned_seed0_lr0.0001_bs_1_Mon Feb 27 17:44:29 2023/runs/train/events.out.tfevents.1677548669.west.ucsd.edu.43114.0\").Load():\n",
    "    print(event)"
   ]
  },
  {
   "cell_type": "code",
   "execution_count": 24,
   "metadata": {},
   "outputs": [],
   "source": [
    "logpath = \"/home/mkim/Nserver/climate_processes/src/transformer/logs/transformer_tune_seed0_lr7.7e-05_bs_1_Tue Feb 28 12:14:22 2023/runs/train/events.out.tfevents.1677615264.kserver-2.1217245.0\"\n",
    "from tensorboard.backend.event_processing.event_accumulator import EventAccumulator\n",
    "    \n",
    "event_acc = EventAccumulator(logpath, size_guidance={\"scalars\": 0})\n",
    "event_acc.Reload()\n",
    "\n",
    "for scalar in event_acc.Tags()[\"scalars\"]:\n",
    "    w_times, step_nums, vals = zip(*event_acc.Scalars(scalar))"
   ]
  },
  {
   "cell_type": "code",
   "execution_count": 10,
   "metadata": {},
   "outputs": [
    {
     "data": {
      "text/plain": [
       "<tensorboard.backend.event_processing.event_accumulator.EventAccumulator at 0x7f410da25cf0>"
      ]
     },
     "execution_count": 10,
     "metadata": {},
     "output_type": "execute_result"
    }
   ],
   "source": [
    "log_dir = \"/home/mkim/Nserver/climate_processes/src/SFNP/logs\"\n",
    "\n",
    "event_accumulator = EventAccumulator(log_dir)\n",
    "event_accumulator.Reload()"
   ]
  },
  {
   "cell_type": "code",
   "execution_count": 11,
   "metadata": {},
   "outputs": [
    {
     "data": {
      "text/plain": [
       "{'images': [],\n",
       " 'audio': [],\n",
       " 'histograms': [],\n",
       " 'scalars': [],\n",
       " 'distributions': [],\n",
       " 'tensors': [],\n",
       " 'graph': False,\n",
       " 'meta_graph': False,\n",
       " 'run_metadata': []}"
      ]
     },
     "execution_count": 11,
     "metadata": {},
     "output_type": "execute_result"
    }
   ],
   "source": [
    "event_accumulator.Tags()"
   ]
  },
  {
   "cell_type": "code",
   "execution_count": 7,
   "metadata": {},
   "outputs": [
    {
     "ename": "KeyError",
     "evalue": "'Key mae was not found in Reservoir'",
     "output_type": "error",
     "traceback": [
      "\u001b[0;31m---------------------------------------------------------------------------\u001b[0m",
      "\u001b[0;31mKeyError\u001b[0m                                  Traceback (most recent call last)",
      "\u001b[1;32m/home/mkim/Nserver/climate_processes/notebooks/eval2.ipynb Cell 4\u001b[0m in \u001b[0;36m<cell line: 1>\u001b[0;34m()\u001b[0m\n\u001b[0;32m----> <a href='vscode-notebook-cell:/home/mkim/Nserver/climate_processes/notebooks/eval2.ipynb#W3sZmlsZQ%3D%3D?line=0'>1</a>\u001b[0m events \u001b[39m=\u001b[39m event_accumulator\u001b[39m.\u001b[39;49mScalars(\u001b[39m\"\u001b[39;49m\u001b[39mmae\u001b[39;49m\u001b[39m\"\u001b[39;49m)\n",
      "File \u001b[0;32m~/miniconda3/envs/torch/lib/python3.10/site-packages/tensorboard/backend/event_processing/event_accumulator.py:479\u001b[0m, in \u001b[0;36mEventAccumulator.Scalars\u001b[0;34m(self, tag)\u001b[0m\n\u001b[1;32m    467\u001b[0m \u001b[39mdef\u001b[39;00m \u001b[39mScalars\u001b[39m(\u001b[39mself\u001b[39m, tag):\n\u001b[1;32m    468\u001b[0m     \u001b[39m\"\"\"Given a summary tag, return all associated `ScalarEvent`s.\u001b[39;00m\n\u001b[1;32m    469\u001b[0m \n\u001b[1;32m    470\u001b[0m \u001b[39m    Args:\u001b[39;00m\n\u001b[0;32m   (...)\u001b[0m\n\u001b[1;32m    477\u001b[0m \u001b[39m      An array of `ScalarEvent`s.\u001b[39;00m\n\u001b[1;32m    478\u001b[0m \u001b[39m    \"\"\"\u001b[39;00m\n\u001b[0;32m--> 479\u001b[0m     \u001b[39mreturn\u001b[39;00m \u001b[39mself\u001b[39;49m\u001b[39m.\u001b[39;49mscalars\u001b[39m.\u001b[39;49mItems(tag)\n",
      "File \u001b[0;32m~/miniconda3/envs/torch/lib/python3.10/site-packages/tensorboard/backend/event_processing/reservoir.py:110\u001b[0m, in \u001b[0;36mReservoir.Items\u001b[0;34m(self, key)\u001b[0m\n\u001b[1;32m    108\u001b[0m \u001b[39mwith\u001b[39;00m \u001b[39mself\u001b[39m\u001b[39m.\u001b[39m_mutex:\n\u001b[1;32m    109\u001b[0m     \u001b[39mif\u001b[39;00m key \u001b[39mnot\u001b[39;00m \u001b[39min\u001b[39;00m \u001b[39mself\u001b[39m\u001b[39m.\u001b[39m_buckets:\n\u001b[0;32m--> 110\u001b[0m         \u001b[39mraise\u001b[39;00m \u001b[39mKeyError\u001b[39;00m(\u001b[39m\"\u001b[39m\u001b[39mKey \u001b[39m\u001b[39m%s\u001b[39;00m\u001b[39m was not found in Reservoir\u001b[39m\u001b[39m\"\u001b[39m \u001b[39m%\u001b[39m key)\n\u001b[1;32m    111\u001b[0m     bucket \u001b[39m=\u001b[39m \u001b[39mself\u001b[39m\u001b[39m.\u001b[39m_buckets[key]\n\u001b[1;32m    112\u001b[0m \u001b[39mreturn\u001b[39;00m bucket\u001b[39m.\u001b[39mItems()\n",
      "\u001b[0;31mKeyError\u001b[0m: 'Key mae was not found in Reservoir'"
     ]
    }
   ],
   "source": [
    "events = event_accumulator.Scalars(\"mae\")"
   ]
  }
 ],
 "metadata": {
  "kernelspec": {
   "display_name": "torch",
   "language": "python",
   "name": "python3"
  },
  "language_info": {
   "codemirror_mode": {
    "name": "ipython",
    "version": 3
   },
   "file_extension": ".py",
   "mimetype": "text/x-python",
   "name": "python",
   "nbconvert_exporter": "python",
   "pygments_lexer": "ipython3",
   "version": "3.10.4"
  },
  "orig_nbformat": 4,
  "vscode": {
   "interpreter": {
    "hash": "a5529f52d43dbfc9fee230ba5e7607dce6de3247df14ba2bd24aec3ce54489fd"
   }
  }
 },
 "nbformat": 4,
 "nbformat_minor": 2
}
