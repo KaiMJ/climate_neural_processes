{
 "cells": [
  {
   "cell_type": "code",
   "execution_count": 1,
   "metadata": {},
   "outputs": [],
   "source": [
    "import glob\n",
    "import numpy as np\n",
    "from mayavi import mlab"
   ]
  },
  {
   "cell_type": "code",
   "execution_count": 2,
   "metadata": {},
   "outputs": [],
   "source": [
    "input_paths = sorted(glob.glob(\"inputs_*\"))\n",
    "output_paths = sorted(glob.glob(\"outputs_*\"))\n",
    "x = np.load(input_paths[0])\n",
    "y = np.load(output_paths[0])\n",
    "x = x.reshape(6*24, 96, 144, -1)[..., :26]\n",
    "y = y.reshape(6*24, 96, 144, -1)[..., :26]\n",
    "vmax = y.max()\n",
    "vmin = y.min()"
   ]
  },
  {
   "cell_type": "code",
   "execution_count": 4,
   "metadata": {},
   "outputs": [],
   "source": [
    "mlab.figure(\"Figure 1!\", bgcolor=(0, 0, 0), fgcolor=(1, 1, 1), size=(1000, 1000))\n",
    "\n",
    "@mlab.animate(delay=100, ui=True)\n",
    "def main():\n",
    "    s = np.zeros((2,2))\n",
    "\n",
    "    im1 = mlab.imshow(s, interpolate=False, colormap='gist_earth', extent=[0, 2, 0, 2, 0, 2])\n",
    "    im2 = mlab.imshow(s, interpolate=False, colormap='gist_earth', extent=[0, 2, 0, 2, 2, 4])\n",
    "    mlab.axes(extent=[0, 2, 0, 2, 0, 4])\n",
    "    for i in range(100):\n",
    "        print(i)\n",
    "        s = np.random.random((2,2))\n",
    "        im1.mlab_source.reset(scalars=s)\n",
    "        im2.mlab_source.reset(scalars=s)\n",
    "\n",
    "        yield\n",
    "\n",
    "main()\n",
    "mlab.show()"
   ]
  },
  {
   "cell_type": "code",
   "execution_count": 21,
   "metadata": {},
   "outputs": [
    {
     "name": "stdout",
     "output_type": "stream",
     "text": [
      "('inputs_2003_04_12.npy', 3)\r"
     ]
    }
   ],
   "source": [
    "mlab.figure(\"Figure 1!\", bgcolor=(0, 0, 0), fgcolor=(1, 1, 1), size=(1000, 1000))\n",
    "\n",
    "img_idx = 0\n",
    "\n",
    "@mlab.animate(delay=100, ui=True)\n",
    "def main():\n",
    "    global img_idx\n",
    "    global x\n",
    "    # , vmin=vmin, vmax=vmax\n",
    "\n",
    "    mlab_imgs = [mlab.imshow(x[img_idx, ..., v], interpolate=False, colormap='gist_earth', \\\n",
    "                            extent=[0, 96, 0, 144, v*3, (v+1)*3],\\\n",
    "                            vmin=x[img_idx, ..., v].min(), vmax=x[img_idx, ..., v].max()) for v in range(26)]\n",
    "    mlab.axes(extent=[0, 96, 0, 144, 0, 26*3])\n",
    "    img_idx += 1\n",
    "    while img_idx < 6*24:\n",
    "        # Next Y\n",
    "        if img_idx % (24*6) == 0:\n",
    "            img_idx = 0\n",
    "            print('loading')\n",
    "            x = np.load(input_paths[img_idx // (24*6) + 1])\n",
    "            x = x.reshape(6*24, 96, 144, -1)[..., 26:52]\n",
    "\n",
    "\n",
    "        for m in range(len(mlab_imgs)):\n",
    "            mlab_imgs[m].mlab_source.reset(scalars=x[img_idx, ..., m])\n",
    "        img_idx += 1\n",
    "        print((input_paths[img_idx // (24*6) + 1], img_idx), end='\\r')\n",
    "        yield\n",
    "main()\n",
    "mlab.show()"
   ]
  },
  {
   "cell_type": "code",
   "execution_count": 2,
   "metadata": {},
   "outputs": [],
   "source": [
    "import numpy as np\n",
    "from mayavi import mlab\n",
    "# x, y = np.mgrid[0:3:1,0:3:1]\n",
    "# s = mlab.surf(x, y, np.asarray(x*0.1, 'd'))\n",
    "\n",
    "\n",
    "\n",
    "@mlab.animate\n",
    "def anim():\n",
    "    for i in range(10):\n",
    "        s.mlab_source.scalars = np.asarray(x*0.1*(i+1), 'd')\n",
    "        yield\n",
    "\n",
    "anim()\n",
    "mlab.show()"
   ]
  }
 ],
 "metadata": {
  "kernelspec": {
   "display_name": "torch",
   "language": "python",
   "name": "python3"
  },
  "language_info": {
   "codemirror_mode": {
    "name": "ipython",
    "version": 3
   },
   "file_extension": ".py",
   "mimetype": "text/x-python",
   "name": "python",
   "nbconvert_exporter": "python",
   "pygments_lexer": "ipython3",
   "version": "3.10.4"
  },
  "orig_nbformat": 4,
  "vscode": {
   "interpreter": {
    "hash": "a5529f52d43dbfc9fee230ba5e7607dce6de3247df14ba2bd24aec3ce54489fd"
   }
  }
 },
 "nbformat": 4,
 "nbformat_minor": 2
}
