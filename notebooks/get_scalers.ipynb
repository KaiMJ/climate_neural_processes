{
 "cells": [
  {
   "cell_type": "code",
   "execution_count": 1,
   "metadata": {},
   "outputs": [],
   "source": [
    "import numpy as np\n",
    "import glob\n",
    "import dill\n",
    "from tqdm import tqdm\n",
    "from utils import MinMaxScaler, StandardScaler, make_dir, sort_fn, save_object\n",
    "import matplotlib.pyplot as plt\n",
    "from multiprocessing import Pool"
   ]
  },
  {
   "cell_type": "code",
   "execution_count": 12,
   "metadata": {},
   "outputs": [],
   "source": [
    "x_paths = sorted(glob.glob(\"/data/kai/CAM5/inputs_*\"), key=sort_fn)\n",
    "y_paths = sorted(glob.glob(\"/data/kai/CAM5/outputs_*\"), key=sort_fn)"
   ]
  },
  {
   "cell_type": "code",
   "execution_count": 14,
   "metadata": {},
   "outputs": [],
   "source": [
    "n = 183 # first dataset: 6 monnths\n",
    "# train_x = x_paths[:int(n*0.8)]\n",
    "# train_y = y_paths[:int(n*0.8)]\n",
    "# val_x = x_paths[int(n*0.8): n]\n",
    "# val_y = y_paths[int(n*0.8): n]\n",
    "# test_x = x_paths[n:365]\n",
    "# test_y = y_paths[n:365]\n",
    "\n",
    "n = 365 # second dataset: 1 year\n",
    "train_x = x_paths[:int(n*0.8)]\n",
    "train_y = y_paths[:int(n*0.8)]\n",
    "val_x = x_paths[int(n*0.8): n]\n",
    "val_y = y_paths[int(n*0.8): n]\n",
    "test_x = x_paths[n:]\n",
    "test_y = y_paths[n:]"
   ]
  },
  {
   "cell_type": "code",
   "execution_count": 15,
   "metadata": {},
   "outputs": [
    {
     "name": "stderr",
     "output_type": "stream",
     "text": [
      "  3%|▎         | 9/292 [02:10<1:08:18, 14.48s/it]\n"
     ]
    },
    {
     "ename": "KeyboardInterrupt",
     "evalue": "",
     "output_type": "error",
     "traceback": [
      "\u001b[0;31m---------------------------------------------------------------------------\u001b[0m",
      "\u001b[0;31mKeyboardInterrupt\u001b[0m                         Traceback (most recent call last)",
      "Cell \u001b[0;32mIn[15], line 28\u001b[0m\n\u001b[1;32m     26\u001b[0m         save_object(x_scaler_standard, \u001b[39mf\u001b[39m\u001b[39m\"\u001b[39m\u001b[39mmetrics/lf_dataset_1_x_scaler_standard.pkl\u001b[39m\u001b[39m\"\u001b[39m)\n\u001b[1;32m     27\u001b[0m         save_object(y_scaler_standard, \u001b[39mf\u001b[39m\u001b[39m\"\u001b[39m\u001b[39mmetrics/lf_dataset_1_y_scaler_standard.pkl\u001b[39m\u001b[39m\"\u001b[39m)\n\u001b[0;32m---> 28\u001b[0m     x_max, y_max \u001b[39m=\u001b[39m fit_scalers([train_x[i], train_y[i]], x_max, y_max)\n\u001b[1;32m     30\u001b[0m np\u001b[39m.\u001b[39msave(\u001b[39mf\u001b[39m\u001b[39m\"\u001b[39m\u001b[39mmetrics/lf_dataset_2_x_max.npy\u001b[39m\u001b[39m\"\u001b[39m, x_max)\n\u001b[1;32m     31\u001b[0m np\u001b[39m.\u001b[39msave(\u001b[39mf\u001b[39m\u001b[39m\"\u001b[39m\u001b[39mmetrics/lf_dataset_2_y_max.npy\u001b[39m\u001b[39m\"\u001b[39m, y_max)\n",
      "Cell \u001b[0;32mIn[15], line 15\u001b[0m, in \u001b[0;36mfit_scalers\u001b[0;34m(paths, x_max, y_max)\u001b[0m\n\u001b[1;32m     13\u001b[0m x_scaler_minmax\u001b[39m.\u001b[39mfit(x)\n\u001b[1;32m     14\u001b[0m y_scaler_minmax\u001b[39m.\u001b[39mfit(y)\n\u001b[0;32m---> 15\u001b[0m x_scaler_standard\u001b[39m.\u001b[39;49mfit(x)\n\u001b[1;32m     16\u001b[0m y_scaler_standard\u001b[39m.\u001b[39mfit(y)\n\u001b[1;32m     17\u001b[0m \u001b[39mreturn\u001b[39;00m np\u001b[39m.\u001b[39mmaximum(x_max, np\u001b[39m.\u001b[39mmax(np\u001b[39m.\u001b[39mabs(x), \u001b[39m0\u001b[39m)), np\u001b[39m.\u001b[39mmaximum(y_max, np\u001b[39m.\u001b[39mmax(np\u001b[39m.\u001b[39mabs(y), \u001b[39m0\u001b[39m))\n",
      "File \u001b[0;32m/data/kai/climate_neural_processes/scalers/utils.py:69\u001b[0m, in \u001b[0;36mStandardScaler.fit\u001b[0;34m(self, x)\u001b[0m\n\u001b[1;32m     67\u001b[0m     delta \u001b[39m=\u001b[39m x[i] \u001b[39m-\u001b[39m \u001b[39mself\u001b[39m\u001b[39m.\u001b[39mmean\n\u001b[1;32m     68\u001b[0m     \u001b[39mself\u001b[39m\u001b[39m.\u001b[39mmean \u001b[39m+\u001b[39m\u001b[39m=\u001b[39m delta \u001b[39m/\u001b[39m \u001b[39mself\u001b[39m\u001b[39m.\u001b[39mtotal\n\u001b[0;32m---> 69\u001b[0m     delta2 \u001b[39m=\u001b[39m x[i] \u001b[39m-\u001b[39m \u001b[39mself\u001b[39m\u001b[39m.\u001b[39mmean\n\u001b[1;32m     70\u001b[0m     var \u001b[39m+\u001b[39m\u001b[39m=\u001b[39m delta \u001b[39m*\u001b[39m delta2\n\u001b[1;32m     71\u001b[0m \u001b[39mself\u001b[39m\u001b[39m.\u001b[39mstd \u001b[39m=\u001b[39m np\u001b[39m.\u001b[39msqrt(var \u001b[39m/\u001b[39m \u001b[39mself\u001b[39m\u001b[39m.\u001b[39mtotal)\n",
      "File \u001b[0;32m~/miniconda3/lib/python3.10/site-packages/numpy/core/memmap.py:333\u001b[0m, in \u001b[0;36mmemmap.__getitem__\u001b[0;34m(self, index)\u001b[0m\n\u001b[1;32m    330\u001b[0m     \u001b[39m# Return ndarray otherwise\u001b[39;00m\n\u001b[1;32m    331\u001b[0m     \u001b[39mreturn\u001b[39;00m arr\u001b[39m.\u001b[39mview(np\u001b[39m.\u001b[39mndarray)\n\u001b[0;32m--> 333\u001b[0m \u001b[39mdef\u001b[39;00m \u001b[39m__getitem__\u001b[39m(\u001b[39mself\u001b[39m, index):\n\u001b[1;32m    334\u001b[0m     res \u001b[39m=\u001b[39m \u001b[39msuper\u001b[39m()\u001b[39m.\u001b[39m\u001b[39m__getitem__\u001b[39m(index)\n\u001b[1;32m    335\u001b[0m     \u001b[39mif\u001b[39;00m \u001b[39mtype\u001b[39m(res) \u001b[39mis\u001b[39;00m memmap \u001b[39mand\u001b[39;00m res\u001b[39m.\u001b[39m_mmap \u001b[39mis\u001b[39;00m \u001b[39mNone\u001b[39;00m:\n",
      "\u001b[0;31mKeyboardInterrupt\u001b[0m: "
     ]
    }
   ],
   "source": [
    "x_scaler_minmax = MinMaxScaler()\n",
    "y_scaler_minmax = MinMaxScaler()\n",
    "x_scaler_standard = StandardScaler()\n",
    "y_scaler_standard = StandardScaler()\n",
    "\n",
    "x_max = 0\n",
    "y_max = 0\n",
    "\n",
    "def fit_scalers(paths, x_max, y_max):\n",
    "    x_path, y_path = paths\n",
    "    x = np.load(x_path, mmap_mode=\"r\")\n",
    "    y = np.load(y_path, mmap_mode=\"r\")[:, :26]\n",
    "    x_scaler_minmax.fit(x)\n",
    "    y_scaler_minmax.fit(y)\n",
    "    x_scaler_standard.fit(x)\n",
    "    y_scaler_standard.fit(y)\n",
    "    return np.maximum(x_max, np.max(np.abs(x), 0)), np.maximum(y_max, np.max(np.abs(y), 0))\n",
    "\n",
    "\n",
    "for i in tqdm(range(len(train_x)), total=len(train_x)):\n",
    "    if i == 146:\n",
    "        np.save(f\"metrics/lf_dataset_1_x_max.npy\", x_max)\n",
    "        np.save(f\"metrics/lf_dataset_1_y_max.npy\", y_max)\n",
    "        save_object(x_scaler_minmax, f\"metrics/lf_dataset_1_x_scaler_minmax.pkl\")\n",
    "        save_object(y_scaler_minmax, f\"metrics/lf_dataset_1_y_scaler_minmax.pkl\")\n",
    "        save_object(x_scaler_standard, f\"metrics/lf_dataset_1_x_scaler_standard.pkl\")\n",
    "        save_object(y_scaler_standard, f\"metrics/lf_dataset_1_y_scaler_standard.pkl\")\n",
    "    x_max, y_max = fit_scalers([train_x[i], train_y[i]], x_max, y_max)\n",
    "\n",
    "np.save(f\"metrics/lf_dataset_2_x_max.npy\", x_max)\n",
    "np.save(f\"metrics/lf_dataset_2_y_max.npy\", y_max)\n",
    "\n",
    "save_object(x_scaler_minmax, f\"metrics/lf_dataset_2_x_scaler_minmax.pkl\")\n",
    "save_object(y_scaler_minmax, f\"metrics/lf_dataset_2_y_scaler_minmax.pkl\")\n",
    "save_object(x_scaler_standard, f\"metrics/lf_dataset_2_x_scaler_standard.pkl\")\n",
    "save_object(y_scaler_standard, f\"metrics/lf_dataset_2_y_scaler_standard.pkl\")"
   ]
  },
  {
   "cell_type": "code",
   "execution_count": 3,
   "metadata": {},
   "outputs": [],
   "source": [
    "x_scaler_minmax = dill.load(open(\"metrics/lf_dataset_1_x_scaler_minmax.pkl\", \"rb\"))\n",
    "y_scaler_minmax = dill.load(open(\"metrics/lf_dataset_1_y_scaler_minmax.pkl\", \"rb\"))\n",
    "x_scaler_standard = dill.load(open(\"metrics/lf_dataset_1_x_scaler_standard.pkl\", \"rb\"))\n",
    "y_scaler_standard = dill.load(open(\"metrics/lf_dataset_1_y_scaler_standard.pkl\", \"rb\"))"
   ]
  },
  {
   "cell_type": "code",
   "execution_count": null,
   "metadata": {},
   "outputs": [],
   "source": []
  }
 ],
 "metadata": {
  "kernelspec": {
   "display_name": "torch",
   "language": "python",
   "name": "python3"
  },
  "language_info": {
   "codemirror_mode": {
    "name": "ipython",
    "version": 3
   },
   "file_extension": ".py",
   "mimetype": "text/x-python",
   "name": "python",
   "nbconvert_exporter": "python",
   "pygments_lexer": "ipython3",
   "version": "3.10.8"
  },
  "orig_nbformat": 4,
  "vscode": {
   "interpreter": {
    "hash": "a5529f52d43dbfc9fee230ba5e7607dce6de3247df14ba2bd24aec3ce54489fd"
   }
  }
 },
 "nbformat": 4,
 "nbformat_minor": 2
}
